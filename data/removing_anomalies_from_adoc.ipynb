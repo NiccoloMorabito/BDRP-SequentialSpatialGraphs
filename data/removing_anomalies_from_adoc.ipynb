{
 "cells": [
  {
   "cell_type": "code",
   "execution_count": 1,
   "metadata": {},
   "outputs": [],
   "source": [
    "import pandas as pd\n",
    "import os\n",
    "import pickle"
   ]
  },
  {
   "cell_type": "code",
   "execution_count": 2,
   "metadata": {},
   "outputs": [
    {
     "name": "stdout",
     "output_type": "stream",
     "text": [
      "dict_keys(['/Users/xiaokeai/Downloads/yolov7-main/datasets/adoc_v.1.1/videos/Day1/part1.avi', '/Users/xiaokeai/Downloads/yolov7-main/datasets/adoc_v.1.1/videos/Day1/part2.avi', '/Users/xiaokeai/Downloads/yolov7-main/datasets/adoc_v.1.1/videos/Day1/part3.avi', '/Users/xiaokeai/Downloads/yolov7-main/datasets/adoc_v.1.1/videos/Day1/part4.avi'])\n"
     ]
    }
   ],
   "source": [
    "with open(\"Adoc_training_ANOMALIES.pickle\", \"rb\") as f:\n",
    "    videoname_to_graphs = pickle.load(f)\n",
    "\n",
    "print(videoname_to_graphs.keys())"
   ]
  },
  {
   "cell_type": "code",
   "execution_count": 3,
   "metadata": {},
   "outputs": [
    {
     "name": "stdout",
     "output_type": "stream",
     "text": [
      "/Users/xiaokeai/Downloads/yolov7-main/datasets/adoc_v.1.1/videos/Day1/part1.avi -> 64796\n",
      "/Users/xiaokeai/Downloads/yolov7-main/datasets/adoc_v.1.1/videos/Day1/part2.avi -> 64784\n",
      "/Users/xiaokeai/Downloads/yolov7-main/datasets/adoc_v.1.1/videos/Day1/part3.avi -> 64782\n",
      "/Users/xiaokeai/Downloads/yolov7-main/datasets/adoc_v.1.1/videos/Day1/part4.avi -> 64761\n"
     ]
    }
   ],
   "source": [
    "for key, value in videoname_to_graphs.items():\n",
    "    print(f\"{key} -> {len(value)}\")"
   ]
  },
  {
   "cell_type": "code",
   "execution_count": 4,
   "metadata": {},
   "outputs": [
    {
     "data": {
      "text/plain": [
       "'\\ncsvs = [file for file in os.listdir(\\'.\\') if file.endswith(\".csv\")]\\n\\nvideoname_to_anomaly_frames = dict()\\nfor csv in csvs:\\n    df = pd.read_csv(csv, names=[\"frame\", \"id\", \"bb_left\", \"bb_top\", \"bb_width\", \"bb_height\", \"conf\", \"x\", \"y\", \"z\"])\\n    anomaly_frames = set(df[\"frame\"].unique())\\n    videoname = csv.split(\".\")[0]\\n    videoname_to_anomaly_frames[videoname] = anomaly_frames\\n\\nwith open(\"ADOC_anomaly_frames.pickle\", \"wb\") as f:\\n    pickle.dump(videoname_to_anomaly_frames, f, protocol=pickle.HIGHEST_PROTOCOL)\\n'"
      ]
     },
     "execution_count": 4,
     "metadata": {},
     "output_type": "execute_result"
    }
   ],
   "source": [
    "# reading original csv files in MOT folder of ADOC dataset\n",
    "'''\n",
    "csvs = [file for file in os.listdir('.') if file.endswith(\".csv\")]\n",
    "\n",
    "videoname_to_anomaly_frames = dict()\n",
    "for csv in csvs:\n",
    "    df = pd.read_csv(csv, names=[\"frame\", \"id\", \"bb_left\", \"bb_top\", \"bb_width\", \"bb_height\", \"conf\", \"x\", \"y\", \"z\"])\n",
    "    anomaly_frames = set(df[\"frame\"].unique())\n",
    "    videoname = csv.split(\".\")[0]\n",
    "    videoname_to_anomaly_frames[videoname] = anomaly_frames\n",
    "\n",
    "with open(\"Adoc_anomaly_frames.pickle\", \"wb\") as f:\n",
    "    pickle.dump(videoname_to_anomaly_frames, f, protocol=pickle.HIGHEST_PROTOCOL)\n",
    "'''"
   ]
  },
  {
   "cell_type": "code",
   "execution_count": 5,
   "metadata": {},
   "outputs": [
    {
     "name": "stdout",
     "output_type": "stream",
     "text": [
      "/Users/xiaokeai/Downloads/yolov7-main/datasets/adoc_v.1.1/videos/Day1/part1.avi -> 38013\n",
      "/Users/xiaokeai/Downloads/yolov7-main/datasets/adoc_v.1.1/videos/Day1/part2.avi -> 63695\n",
      "/Users/xiaokeai/Downloads/yolov7-main/datasets/adoc_v.1.1/videos/Day1/part3.avi -> 45543\n",
      "/Users/xiaokeai/Downloads/yolov7-main/datasets/adoc_v.1.1/videos/Day1/part4.avi -> 9999\n"
     ]
    }
   ],
   "source": [
    "with open(\"Adoc_anomaly_frames.pickle\", \"rb\") as f:\n",
    "    videoname_to_anomaly_frames = pickle.load(f)\n",
    "\n",
    "new_videoname_to_graphs = dict()\n",
    "for key in videoname_to_graphs.keys():\n",
    "    videoname = key.split(\"/\")[-1].split(\".\")[0]\n",
    "    graphs = videoname_to_graphs[key]\n",
    "    anomaly_frames = videoname_to_anomaly_frames[videoname]\n",
    "    new_videoname_to_graphs[key] = [graph for idx, graph in enumerate(graphs) if idx not in anomaly_frames]\n",
    "\n",
    "for key, value in new_videoname_to_graphs.items():\n",
    "    print(f\"{key} -> {len(value)}\")\n",
    "\n",
    "with open(\"Adoc_training_NOANOMALIES.pickle\", 'wb') as handle:\n",
    "    pickle.dump(new_videoname_to_graphs, handle, protocol=pickle.HIGHEST_PROTOCOL)"
   ]
  }
 ],
 "metadata": {
  "kernelspec": {
   "display_name": "Python 3",
   "language": "python",
   "name": "python3"
  },
  "language_info": {
   "codemirror_mode": {
    "name": "ipython",
    "version": 3
   },
   "file_extension": ".py",
   "mimetype": "text/x-python",
   "name": "python",
   "nbconvert_exporter": "python",
   "pygments_lexer": "ipython3",
   "version": "3.10.9"
  },
  "orig_nbformat": 4,
  "vscode": {
   "interpreter": {
    "hash": "b0fa6594d8f4cbf19f97940f81e996739fb7646882a419484c72d19e05852a7e"
   }
  }
 },
 "nbformat": 4,
 "nbformat_minor": 2
}
