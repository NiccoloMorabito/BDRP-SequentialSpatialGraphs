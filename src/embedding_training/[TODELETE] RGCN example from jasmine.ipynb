{
  "cells": [
    {
      "cell_type": "markdown",
      "metadata": {
        "id": "iSfY-OUTqz6C"
      },
      "source": [
        "# Node-level embedding via Relational Graph Convolutional Network (RGCN) under node classification virtual tasks"
      ]
    },
    {
      "cell_type": "markdown",
      "source": [
        "We use stellagraph. The reason is that it offers both the **edge type** and **edge weight** choice, while RGCN algorithm in other packages like PyG or DGL doesn't offer such.\n",
        "\n",
        "This node-level embedding is for the later usage of the **discriminator network**."
      ],
      "metadata": {
        "id": "Mb3pIzJS8AeO"
      }
    },
    {
      "cell_type": "markdown",
      "metadata": {
        "nbsphinx": "hidden",
        "tags": [
          "CloudRunner"
        ],
        "id": "C1bv-xYYqz6C"
      },
      "source": [
        "<table><tr><td>Run the latest release of this notebook:</td><td><a href=\"https://mybinder.org/v2/gh/stellargraph/stellargraph/master?urlpath=lab/tree/demos/node-classification/rgcn-node-classification.ipynb\" alt=\"Open In Binder\" target=\"_parent\"><img src=\"https://mybinder.org/badge_logo.svg\"/></a></td><td><a href=\"https://colab.research.google.com/github/stellargraph/stellargraph/blob/master/demos/node-classification/rgcn-node-classification.ipynb\" alt=\"Open In Colab\" target=\"_parent\"><img src=\"https://colab.research.google.com/assets/colab-badge.svg\"/></a></td></tr></table>"
      ]
    },
    {
      "cell_type": "code",
      "execution_count": null,
      "metadata": {
        "nbsphinx": "hidden",
        "tags": [
          "CloudRunner"
        ],
        "id": "dLH8Y9Saqz6D"
      },
      "outputs": [],
      "source": [
        "# install StellarGraph if running on Google Colab\n",
        "import sys\n",
        "if 'google.colab' in sys.modules:\n",
        "  %pip install -q stellargraph[demos]==1.2.1"
      ]
    },
    {
      "cell_type": "code",
      "execution_count": null,
      "metadata": {
        "nbsphinx": "hidden",
        "tags": [
          "VersionCheck"
        ],
        "id": "kR2Onyq2qz6D"
      },
      "outputs": [],
      "source": [
        "# verify that we're using the correct version of StellarGraph for this notebook\n",
        "import stellargraph as sg\n",
        "\n",
        "try:\n",
        "    sg.utils.validate_notebook_version(\"1.2.1\")\n",
        "except AttributeError:\n",
        "    raise ValueError(\n",
        "        f\"This notebook requires StellarGraph version 1.2.1, but a different version {sg.__version__} is installed.  Please see <https://github.com/stellargraph/stellargraph/issues/1172>.\"\n",
        "    ) from None"
      ]
    },
    {
      "cell_type": "code",
      "execution_count": null,
      "metadata": {
        "id": "60rMOFMrqz6D"
      },
      "outputs": [],
      "source": [
        "from rdflib.extras.external_graph_libs import *\n",
        "from rdflib import Graph, URIRef, Literal\n",
        "\n",
        "import networkx as nx\n",
        "from networkx.classes.function import info\n",
        "\n",
        "import stellargraph as sg\n",
        "from stellargraph import StellarGraph\n",
        "from stellargraph.mapper import RelationalFullBatchNodeGenerator\n",
        "from stellargraph.layer import RGCN\n",
        "\n",
        "import numpy as np\n",
        "import matplotlib.pyplot as plt\n",
        "import os\n",
        "import pandas as pd\n",
        "\n",
        "import tensorflow as tf\n",
        "from tensorflow import keras\n",
        "from tensorflow.keras.layers import Dense\n",
        "from tensorflow.keras.models import Model\n",
        "\n",
        "import sklearn\n",
        "from sklearn import model_selection\n",
        "from collections import Counter\n",
        "from stellargraph import datasets\n",
        "from IPython.display import display, HTML\n",
        "import matplotlib.pyplot as plt\n",
        "%matplotlib inline"
      ]
    },
    {
      "cell_type": "markdown",
      "metadata": {
        "id": "L3h1JrzSqz6D"
      },
      "source": [
        "## Loading the data"
      ]
    },
    {
      "cell_type": "code",
      "source": [
        "# class Node:\n",
        "#     id: int = field(default=0)\n",
        "#     size_bbox ?\n",
        "#     x1: int = field(default=0)\n",
        "#     y1: int = field(default=0)\n",
        "#     x2: int = field(default=0)\n",
        "#     y2: int = field(default=0)\n",
        "#     conf: float = field(default=float(0))\n",
        "#     detclass: int = field(default=0)\n",
        "#     class_name: str = field(default=\"\")\n",
        "#     centroid: tuple = field(default=(0, 0))"
      ],
      "metadata": {
        "id": "XCezXmCAuLZ2",
        "colab": {
          "base_uri": "https://localhost:8080/",
          "height": 131
        },
        "outputId": "c47ed3fa-05a1-414e-9b85-d46e01187a28"
      },
      "execution_count": null,
      "outputs": [
        {
          "output_type": "error",
          "ename": "SyntaxError",
          "evalue": "ignored",
          "traceback": [
            "\u001b[0;36m  File \u001b[0;32m\"<ipython-input-45-9f4d4e710754>\"\u001b[0;36m, line \u001b[0;32m3\u001b[0m\n\u001b[0;31m    size_bbox ?\u001b[0m\n\u001b[0m              ^\u001b[0m\n\u001b[0;31mSyntaxError\u001b[0m\u001b[0;31m:\u001b[0m invalid syntax\n"
          ]
        }
      ]
    },
    {
      "cell_type": "code",
      "source": [
        "# node_feature_index = pd.DataFrame(\n",
        "#     { \"node_1\": { \"id\": 1, \"centroid_x\": 2, \"centroid_y\": 5, \"class\": 1, \"size\": 90 },\n",
        "#       \"node_2\": { \"id\": 2, \"centroid_x\": 5, \"centroid_y\": 9, \"class\": 7, \"size\": 30 },\n",
        "#       \"node_3\": { \"id\": 1, \"centroid_x\": 3, \"centroid_y\": 6, \"class\": 1, \"size\": 80 }},\n",
        "#      index=[\"node_1\", \"node_2\", \"node_3\"]\n",
        "# )\n",
        "# node_feature_index"
      ],
      "metadata": {
        "id": "McFosSCCt8yY"
      },
      "execution_count": null,
      "outputs": []
    },
    {
      "cell_type": "code",
      "source": [
        "node_feature_index = pd.DataFrame(\n",
        "    { \"node_1\": { \"id\": 1, \"centroid_x\": 2, \"centroid_y\": 5, \"class\": 1, \"size\": 90 },\n",
        "      \"node_2\": { \"id\": 2, \"centroid_x\": 5, \"centroid_y\": 9, \"class\": 7, \"size\": 30 },\n",
        "      \"node_3\": { \"id\": 1, \"centroid_x\": 3, \"centroid_y\": 6, \"class\": 1, \"size\": 80 },\n",
        "     index=[\"node_1\", \"node_2\", \"node_3\"]\n",
        ")\n",
        "node_feature_index\n",
        "edge_source_target_weight_features = pd.DataFrame(\n",
        "    {\n",
        "        \"source\": [\"node_1\", \"node_2\", \"node_1\"],\n",
        "        \"target\": [\"node_2\", \"node_1\", \"node_3\"],\n",
        "        \"is_temporal\": [0, 0, 1],\n",
        "        \"weight\": [20, 20, 5],\n",
        "    }\n",
        ")\n",
        "edge_source_target_weight_features"
      ],
      "metadata": {
        "id": "azS_YpsbwSDZ"
      },
      "execution_count": null,
      "outputs": []
    },
    {
      "cell_type": "code",
      "source": [
        "node_feature_index = pd.DataFrame(\n",
        "    {\"node_f1\": [1, 2, 3, 4], \"node_f2\":[-0.2, 0.3, 0.0, -0.5], \"node_f3\": [-0.2, 0.3, 0.0, -0.5], \"node_f4\": [0.2, 1.3, 1.0, -4], \"node_f5\": [2, 3.3, 2.0, 4.5]}, index=[\"node_1\", \"node_2\", \"node_3\", \"node_4\"] #\"node_f2\": [(-0.3,-0.3), (-0.3,-0.3), (-0.3,-0.3),(-0.3,-0.3)],\n",
        ")\n",
        "node_feature_index"
      ],
      "metadata": {
        "colab": {
          "base_uri": "https://localhost:8080/",
          "height": 175
        },
        "id": "LPEoBv0Y4dDf",
        "outputId": "286e743f-79b9-45ad-e06c-2b5301b9816a"
      },
      "execution_count": null,
      "outputs": [
        {
          "output_type": "execute_result",
          "data": {
            "text/plain": [
              "        node_f1  node_f2  node_f3  node_f4  node_f5\n",
              "node_1        1     -0.2     -0.2      0.2      2.0\n",
              "node_2        2      0.3      0.3      1.3      3.3\n",
              "node_3        3      0.0      0.0      1.0      2.0\n",
              "node_4        4     -0.5     -0.5     -4.0      4.5"
            ],
            "text/html": [
              "\n",
              "  <div id=\"df-36a69ad3-1c50-4aa4-9d5c-39692cb1ec6f\">\n",
              "    <div class=\"colab-df-container\">\n",
              "      <div>\n",
              "<style scoped>\n",
              "    .dataframe tbody tr th:only-of-type {\n",
              "        vertical-align: middle;\n",
              "    }\n",
              "\n",
              "    .dataframe tbody tr th {\n",
              "        vertical-align: top;\n",
              "    }\n",
              "\n",
              "    .dataframe thead th {\n",
              "        text-align: right;\n",
              "    }\n",
              "</style>\n",
              "<table border=\"1\" class=\"dataframe\">\n",
              "  <thead>\n",
              "    <tr style=\"text-align: right;\">\n",
              "      <th></th>\n",
              "      <th>node_f1</th>\n",
              "      <th>node_f2</th>\n",
              "      <th>node_f3</th>\n",
              "      <th>node_f4</th>\n",
              "      <th>node_f5</th>\n",
              "    </tr>\n",
              "  </thead>\n",
              "  <tbody>\n",
              "    <tr>\n",
              "      <th>node_1</th>\n",
              "      <td>1</td>\n",
              "      <td>-0.2</td>\n",
              "      <td>-0.2</td>\n",
              "      <td>0.2</td>\n",
              "      <td>2.0</td>\n",
              "    </tr>\n",
              "    <tr>\n",
              "      <th>node_2</th>\n",
              "      <td>2</td>\n",
              "      <td>0.3</td>\n",
              "      <td>0.3</td>\n",
              "      <td>1.3</td>\n",
              "      <td>3.3</td>\n",
              "    </tr>\n",
              "    <tr>\n",
              "      <th>node_3</th>\n",
              "      <td>3</td>\n",
              "      <td>0.0</td>\n",
              "      <td>0.0</td>\n",
              "      <td>1.0</td>\n",
              "      <td>2.0</td>\n",
              "    </tr>\n",
              "    <tr>\n",
              "      <th>node_4</th>\n",
              "      <td>4</td>\n",
              "      <td>-0.5</td>\n",
              "      <td>-0.5</td>\n",
              "      <td>-4.0</td>\n",
              "      <td>4.5</td>\n",
              "    </tr>\n",
              "  </tbody>\n",
              "</table>\n",
              "</div>\n",
              "      <button class=\"colab-df-convert\" onclick=\"convertToInteractive('df-36a69ad3-1c50-4aa4-9d5c-39692cb1ec6f')\"\n",
              "              title=\"Convert this dataframe to an interactive table.\"\n",
              "              style=\"display:none;\">\n",
              "        \n",
              "  <svg xmlns=\"http://www.w3.org/2000/svg\" height=\"24px\"viewBox=\"0 0 24 24\"\n",
              "       width=\"24px\">\n",
              "    <path d=\"M0 0h24v24H0V0z\" fill=\"none\"/>\n",
              "    <path d=\"M18.56 5.44l.94 2.06.94-2.06 2.06-.94-2.06-.94-.94-2.06-.94 2.06-2.06.94zm-11 1L8.5 8.5l.94-2.06 2.06-.94-2.06-.94L8.5 2.5l-.94 2.06-2.06.94zm10 10l.94 2.06.94-2.06 2.06-.94-2.06-.94-.94-2.06-.94 2.06-2.06.94z\"/><path d=\"M17.41 7.96l-1.37-1.37c-.4-.4-.92-.59-1.43-.59-.52 0-1.04.2-1.43.59L10.3 9.45l-7.72 7.72c-.78.78-.78 2.05 0 2.83L4 21.41c.39.39.9.59 1.41.59.51 0 1.02-.2 1.41-.59l7.78-7.78 2.81-2.81c.8-.78.8-2.07 0-2.86zM5.41 20L4 18.59l7.72-7.72 1.47 1.35L5.41 20z\"/>\n",
              "  </svg>\n",
              "      </button>\n",
              "      \n",
              "  <style>\n",
              "    .colab-df-container {\n",
              "      display:flex;\n",
              "      flex-wrap:wrap;\n",
              "      gap: 12px;\n",
              "    }\n",
              "\n",
              "    .colab-df-convert {\n",
              "      background-color: #E8F0FE;\n",
              "      border: none;\n",
              "      border-radius: 50%;\n",
              "      cursor: pointer;\n",
              "      display: none;\n",
              "      fill: #1967D2;\n",
              "      height: 32px;\n",
              "      padding: 0 0 0 0;\n",
              "      width: 32px;\n",
              "    }\n",
              "\n",
              "    .colab-df-convert:hover {\n",
              "      background-color: #E2EBFA;\n",
              "      box-shadow: 0px 1px 2px rgba(60, 64, 67, 0.3), 0px 1px 3px 1px rgba(60, 64, 67, 0.15);\n",
              "      fill: #174EA6;\n",
              "    }\n",
              "\n",
              "    [theme=dark] .colab-df-convert {\n",
              "      background-color: #3B4455;\n",
              "      fill: #D2E3FC;\n",
              "    }\n",
              "\n",
              "    [theme=dark] .colab-df-convert:hover {\n",
              "      background-color: #434B5C;\n",
              "      box-shadow: 0px 1px 3px 1px rgba(0, 0, 0, 0.15);\n",
              "      filter: drop-shadow(0px 1px 2px rgba(0, 0, 0, 0.3));\n",
              "      fill: #FFFFFF;\n",
              "    }\n",
              "  </style>\n",
              "\n",
              "      <script>\n",
              "        const buttonEl =\n",
              "          document.querySelector('#df-36a69ad3-1c50-4aa4-9d5c-39692cb1ec6f button.colab-df-convert');\n",
              "        buttonEl.style.display =\n",
              "          google.colab.kernel.accessAllowed ? 'block' : 'none';\n",
              "\n",
              "        async function convertToInteractive(key) {\n",
              "          const element = document.querySelector('#df-36a69ad3-1c50-4aa4-9d5c-39692cb1ec6f');\n",
              "          const dataTable =\n",
              "            await google.colab.kernel.invokeFunction('convertToInteractive',\n",
              "                                                     [key], {});\n",
              "          if (!dataTable) return;\n",
              "\n",
              "          const docLinkHtml = 'Like what you see? Visit the ' +\n",
              "            '<a target=\"_blank\" href=https://colab.research.google.com/notebooks/data_table.ipynb>data table notebook</a>'\n",
              "            + ' to learn more about interactive tables.';\n",
              "          element.innerHTML = '';\n",
              "          dataTable['output_type'] = 'display_data';\n",
              "          await google.colab.output.renderOutput(dataTable, element);\n",
              "          const docLink = document.createElement('div');\n",
              "          docLink.innerHTML = docLinkHtml;\n",
              "          element.appendChild(docLink);\n",
              "        }\n",
              "      </script>\n",
              "    </div>\n",
              "  </div>\n",
              "  "
            ]
          },
          "metadata": {},
          "execution_count": 76
        }
      ]
    },
    {
      "cell_type": "code",
      "source": [
        "node_label= pd.DataFrame(\n",
        "    {\"label\": [1, 0, 2, 1]}, index=[\"node_1\", \"node_2\", \"node_3\", \"node_4\"]\n",
        ")\n",
        "node_label"
      ],
      "metadata": {
        "id": "X9JSPSUA0E5A",
        "outputId": "4fee0f64-8005-4f2b-d0cc-609beb191c67",
        "colab": {
          "base_uri": "https://localhost:8080/",
          "height": 175
        }
      },
      "execution_count": null,
      "outputs": [
        {
          "output_type": "execute_result",
          "data": {
            "text/plain": [
              "        label\n",
              "node_1      1\n",
              "node_2      0\n",
              "node_3      2\n",
              "node_4      1"
            ],
            "text/html": [
              "\n",
              "  <div id=\"df-80b4a634-c821-4a63-8cde-6850dfa8a6f2\">\n",
              "    <div class=\"colab-df-container\">\n",
              "      <div>\n",
              "<style scoped>\n",
              "    .dataframe tbody tr th:only-of-type {\n",
              "        vertical-align: middle;\n",
              "    }\n",
              "\n",
              "    .dataframe tbody tr th {\n",
              "        vertical-align: top;\n",
              "    }\n",
              "\n",
              "    .dataframe thead th {\n",
              "        text-align: right;\n",
              "    }\n",
              "</style>\n",
              "<table border=\"1\" class=\"dataframe\">\n",
              "  <thead>\n",
              "    <tr style=\"text-align: right;\">\n",
              "      <th></th>\n",
              "      <th>label</th>\n",
              "    </tr>\n",
              "  </thead>\n",
              "  <tbody>\n",
              "    <tr>\n",
              "      <th>node_1</th>\n",
              "      <td>1</td>\n",
              "    </tr>\n",
              "    <tr>\n",
              "      <th>node_2</th>\n",
              "      <td>0</td>\n",
              "    </tr>\n",
              "    <tr>\n",
              "      <th>node_3</th>\n",
              "      <td>2</td>\n",
              "    </tr>\n",
              "    <tr>\n",
              "      <th>node_4</th>\n",
              "      <td>1</td>\n",
              "    </tr>\n",
              "  </tbody>\n",
              "</table>\n",
              "</div>\n",
              "      <button class=\"colab-df-convert\" onclick=\"convertToInteractive('df-80b4a634-c821-4a63-8cde-6850dfa8a6f2')\"\n",
              "              title=\"Convert this dataframe to an interactive table.\"\n",
              "              style=\"display:none;\">\n",
              "        \n",
              "  <svg xmlns=\"http://www.w3.org/2000/svg\" height=\"24px\"viewBox=\"0 0 24 24\"\n",
              "       width=\"24px\">\n",
              "    <path d=\"M0 0h24v24H0V0z\" fill=\"none\"/>\n",
              "    <path d=\"M18.56 5.44l.94 2.06.94-2.06 2.06-.94-2.06-.94-.94-2.06-.94 2.06-2.06.94zm-11 1L8.5 8.5l.94-2.06 2.06-.94-2.06-.94L8.5 2.5l-.94 2.06-2.06.94zm10 10l.94 2.06.94-2.06 2.06-.94-2.06-.94-.94-2.06-.94 2.06-2.06.94z\"/><path d=\"M17.41 7.96l-1.37-1.37c-.4-.4-.92-.59-1.43-.59-.52 0-1.04.2-1.43.59L10.3 9.45l-7.72 7.72c-.78.78-.78 2.05 0 2.83L4 21.41c.39.39.9.59 1.41.59.51 0 1.02-.2 1.41-.59l7.78-7.78 2.81-2.81c.8-.78.8-2.07 0-2.86zM5.41 20L4 18.59l7.72-7.72 1.47 1.35L5.41 20z\"/>\n",
              "  </svg>\n",
              "      </button>\n",
              "      \n",
              "  <style>\n",
              "    .colab-df-container {\n",
              "      display:flex;\n",
              "      flex-wrap:wrap;\n",
              "      gap: 12px;\n",
              "    }\n",
              "\n",
              "    .colab-df-convert {\n",
              "      background-color: #E8F0FE;\n",
              "      border: none;\n",
              "      border-radius: 50%;\n",
              "      cursor: pointer;\n",
              "      display: none;\n",
              "      fill: #1967D2;\n",
              "      height: 32px;\n",
              "      padding: 0 0 0 0;\n",
              "      width: 32px;\n",
              "    }\n",
              "\n",
              "    .colab-df-convert:hover {\n",
              "      background-color: #E2EBFA;\n",
              "      box-shadow: 0px 1px 2px rgba(60, 64, 67, 0.3), 0px 1px 3px 1px rgba(60, 64, 67, 0.15);\n",
              "      fill: #174EA6;\n",
              "    }\n",
              "\n",
              "    [theme=dark] .colab-df-convert {\n",
              "      background-color: #3B4455;\n",
              "      fill: #D2E3FC;\n",
              "    }\n",
              "\n",
              "    [theme=dark] .colab-df-convert:hover {\n",
              "      background-color: #434B5C;\n",
              "      box-shadow: 0px 1px 3px 1px rgba(0, 0, 0, 0.15);\n",
              "      filter: drop-shadow(0px 1px 2px rgba(0, 0, 0, 0.3));\n",
              "      fill: #FFFFFF;\n",
              "    }\n",
              "  </style>\n",
              "\n",
              "      <script>\n",
              "        const buttonEl =\n",
              "          document.querySelector('#df-80b4a634-c821-4a63-8cde-6850dfa8a6f2 button.colab-df-convert');\n",
              "        buttonEl.style.display =\n",
              "          google.colab.kernel.accessAllowed ? 'block' : 'none';\n",
              "\n",
              "        async function convertToInteractive(key) {\n",
              "          const element = document.querySelector('#df-80b4a634-c821-4a63-8cde-6850dfa8a6f2');\n",
              "          const dataTable =\n",
              "            await google.colab.kernel.invokeFunction('convertToInteractive',\n",
              "                                                     [key], {});\n",
              "          if (!dataTable) return;\n",
              "\n",
              "          const docLinkHtml = 'Like what you see? Visit the ' +\n",
              "            '<a target=\"_blank\" href=https://colab.research.google.com/notebooks/data_table.ipynb>data table notebook</a>'\n",
              "            + ' to learn more about interactive tables.';\n",
              "          element.innerHTML = '';\n",
              "          dataTable['output_type'] = 'display_data';\n",
              "          await google.colab.output.renderOutput(dataTable, element);\n",
              "          const docLink = document.createElement('div');\n",
              "          docLink.innerHTML = docLinkHtml;\n",
              "          element.appendChild(docLink);\n",
              "        }\n",
              "      </script>\n",
              "    </div>\n",
              "  </div>\n",
              "  "
            ]
          },
          "metadata": {},
          "execution_count": 77
        }
      ]
    },
    {
      "cell_type": "code",
      "source": [
        "edge_source_target_weight_features = pd.DataFrame(\n",
        "    {\n",
        "        \"source\": [\"node_1\", \"node_2\", \"node_3\", \"node_4\",\"node_1\"],\n",
        "        \"target\": [\"node_2\", \"node_3\", \"node_4\",\"node_1\",\"node_3\"],\n",
        "        \"weight\": [1.0, 0.2, 3.4, 5.67, 1.0],\n",
        "        \"A\": [-1, 2, -3, 4, -5],\n",
        "        \"B\": [0.4, 0.1, 0.9, 0, 0.9],\n",
        "        \"C\": [12, 34, 56, 78, 90],\n",
        "    }\n",
        ")\n",
        "edge_source_target_weight_features"
      ],
      "metadata": {
        "id": "knFmunRPy03S",
        "outputId": "dd7008c6-1f1e-45c8-ec7c-50c477faf197",
        "colab": {
          "base_uri": "https://localhost:8080/",
          "height": 206
        }
      },
      "execution_count": null,
      "outputs": [
        {
          "output_type": "execute_result",
          "data": {
            "text/plain": [
              "   source  target  weight  A    B   C\n",
              "0  node_1  node_2    1.00 -1  0.4  12\n",
              "1  node_2  node_3    0.20  2  0.1  34\n",
              "2  node_3  node_4    3.40 -3  0.9  56\n",
              "3  node_4  node_1    5.67  4  0.0  78\n",
              "4  node_1  node_3    1.00 -5  0.9  90"
            ],
            "text/html": [
              "\n",
              "  <div id=\"df-48170d85-b1fc-4710-8878-0645112b3a94\">\n",
              "    <div class=\"colab-df-container\">\n",
              "      <div>\n",
              "<style scoped>\n",
              "    .dataframe tbody tr th:only-of-type {\n",
              "        vertical-align: middle;\n",
              "    }\n",
              "\n",
              "    .dataframe tbody tr th {\n",
              "        vertical-align: top;\n",
              "    }\n",
              "\n",
              "    .dataframe thead th {\n",
              "        text-align: right;\n",
              "    }\n",
              "</style>\n",
              "<table border=\"1\" class=\"dataframe\">\n",
              "  <thead>\n",
              "    <tr style=\"text-align: right;\">\n",
              "      <th></th>\n",
              "      <th>source</th>\n",
              "      <th>target</th>\n",
              "      <th>weight</th>\n",
              "      <th>A</th>\n",
              "      <th>B</th>\n",
              "      <th>C</th>\n",
              "    </tr>\n",
              "  </thead>\n",
              "  <tbody>\n",
              "    <tr>\n",
              "      <th>0</th>\n",
              "      <td>node_1</td>\n",
              "      <td>node_2</td>\n",
              "      <td>1.00</td>\n",
              "      <td>-1</td>\n",
              "      <td>0.4</td>\n",
              "      <td>12</td>\n",
              "    </tr>\n",
              "    <tr>\n",
              "      <th>1</th>\n",
              "      <td>node_2</td>\n",
              "      <td>node_3</td>\n",
              "      <td>0.20</td>\n",
              "      <td>2</td>\n",
              "      <td>0.1</td>\n",
              "      <td>34</td>\n",
              "    </tr>\n",
              "    <tr>\n",
              "      <th>2</th>\n",
              "      <td>node_3</td>\n",
              "      <td>node_4</td>\n",
              "      <td>3.40</td>\n",
              "      <td>-3</td>\n",
              "      <td>0.9</td>\n",
              "      <td>56</td>\n",
              "    </tr>\n",
              "    <tr>\n",
              "      <th>3</th>\n",
              "      <td>node_4</td>\n",
              "      <td>node_1</td>\n",
              "      <td>5.67</td>\n",
              "      <td>4</td>\n",
              "      <td>0.0</td>\n",
              "      <td>78</td>\n",
              "    </tr>\n",
              "    <tr>\n",
              "      <th>4</th>\n",
              "      <td>node_1</td>\n",
              "      <td>node_3</td>\n",
              "      <td>1.00</td>\n",
              "      <td>-5</td>\n",
              "      <td>0.9</td>\n",
              "      <td>90</td>\n",
              "    </tr>\n",
              "  </tbody>\n",
              "</table>\n",
              "</div>\n",
              "      <button class=\"colab-df-convert\" onclick=\"convertToInteractive('df-48170d85-b1fc-4710-8878-0645112b3a94')\"\n",
              "              title=\"Convert this dataframe to an interactive table.\"\n",
              "              style=\"display:none;\">\n",
              "        \n",
              "  <svg xmlns=\"http://www.w3.org/2000/svg\" height=\"24px\"viewBox=\"0 0 24 24\"\n",
              "       width=\"24px\">\n",
              "    <path d=\"M0 0h24v24H0V0z\" fill=\"none\"/>\n",
              "    <path d=\"M18.56 5.44l.94 2.06.94-2.06 2.06-.94-2.06-.94-.94-2.06-.94 2.06-2.06.94zm-11 1L8.5 8.5l.94-2.06 2.06-.94-2.06-.94L8.5 2.5l-.94 2.06-2.06.94zm10 10l.94 2.06.94-2.06 2.06-.94-2.06-.94-.94-2.06-.94 2.06-2.06.94z\"/><path d=\"M17.41 7.96l-1.37-1.37c-.4-.4-.92-.59-1.43-.59-.52 0-1.04.2-1.43.59L10.3 9.45l-7.72 7.72c-.78.78-.78 2.05 0 2.83L4 21.41c.39.39.9.59 1.41.59.51 0 1.02-.2 1.41-.59l7.78-7.78 2.81-2.81c.8-.78.8-2.07 0-2.86zM5.41 20L4 18.59l7.72-7.72 1.47 1.35L5.41 20z\"/>\n",
              "  </svg>\n",
              "      </button>\n",
              "      \n",
              "  <style>\n",
              "    .colab-df-container {\n",
              "      display:flex;\n",
              "      flex-wrap:wrap;\n",
              "      gap: 12px;\n",
              "    }\n",
              "\n",
              "    .colab-df-convert {\n",
              "      background-color: #E8F0FE;\n",
              "      border: none;\n",
              "      border-radius: 50%;\n",
              "      cursor: pointer;\n",
              "      display: none;\n",
              "      fill: #1967D2;\n",
              "      height: 32px;\n",
              "      padding: 0 0 0 0;\n",
              "      width: 32px;\n",
              "    }\n",
              "\n",
              "    .colab-df-convert:hover {\n",
              "      background-color: #E2EBFA;\n",
              "      box-shadow: 0px 1px 2px rgba(60, 64, 67, 0.3), 0px 1px 3px 1px rgba(60, 64, 67, 0.15);\n",
              "      fill: #174EA6;\n",
              "    }\n",
              "\n",
              "    [theme=dark] .colab-df-convert {\n",
              "      background-color: #3B4455;\n",
              "      fill: #D2E3FC;\n",
              "    }\n",
              "\n",
              "    [theme=dark] .colab-df-convert:hover {\n",
              "      background-color: #434B5C;\n",
              "      box-shadow: 0px 1px 3px 1px rgba(0, 0, 0, 0.15);\n",
              "      filter: drop-shadow(0px 1px 2px rgba(0, 0, 0, 0.3));\n",
              "      fill: #FFFFFF;\n",
              "    }\n",
              "  </style>\n",
              "\n",
              "      <script>\n",
              "        const buttonEl =\n",
              "          document.querySelector('#df-48170d85-b1fc-4710-8878-0645112b3a94 button.colab-df-convert');\n",
              "        buttonEl.style.display =\n",
              "          google.colab.kernel.accessAllowed ? 'block' : 'none';\n",
              "\n",
              "        async function convertToInteractive(key) {\n",
              "          const element = document.querySelector('#df-48170d85-b1fc-4710-8878-0645112b3a94');\n",
              "          const dataTable =\n",
              "            await google.colab.kernel.invokeFunction('convertToInteractive',\n",
              "                                                     [key], {});\n",
              "          if (!dataTable) return;\n",
              "\n",
              "          const docLinkHtml = 'Like what you see? Visit the ' +\n",
              "            '<a target=\"_blank\" href=https://colab.research.google.com/notebooks/data_table.ipynb>data table notebook</a>'\n",
              "            + ' to learn more about interactive tables.';\n",
              "          element.innerHTML = '';\n",
              "          dataTable['output_type'] = 'display_data';\n",
              "          await google.colab.output.renderOutput(dataTable, element);\n",
              "          const docLink = document.createElement('div');\n",
              "          docLink.innerHTML = docLinkHtml;\n",
              "          element.appendChild(docLink);\n",
              "        }\n",
              "      </script>\n",
              "    </div>\n",
              "  </div>\n",
              "  "
            ]
          },
          "metadata": {},
          "execution_count": 78
        }
      ]
    },
    {
      "cell_type": "code",
      "source": [
        "G = StellarGraph(\n",
        "    {\"corner\": node_feature_index}, {\"line\": edge_source_target_weight_features}\n",
        ")\n",
        "\n",
        "G.info()"
      ],
      "metadata": {
        "id": "Dw3nSkvuzNDc",
        "outputId": "c324d8ea-f448-442a-dc09-4b2b4db07377",
        "colab": {
          "base_uri": "https://localhost:8080/",
          "height": 42
        }
      },
      "execution_count": null,
      "outputs": [
        {
          "output_type": "execute_result",
          "data": {
            "text/plain": [
              "'StellarGraph: Undirected multigraph\\n Nodes: 4, Edges: 5\\n\\n Node types:\\n  corner: [4]\\n    Features: float32 vector, length 5\\n    Edge types: corner-line->corner\\n\\n Edge types:\\n    corner-line->corner: [5]\\n        Weights: range=[0.2, 5.67], mean=2.254, std=2.25534\\n        Features: float32 vector, length 3'"
            ],
            "application/vnd.google.colaboratory.intrinsic+json": {
              "type": "string"
            }
          },
          "metadata": {},
          "execution_count": 79
        }
      ]
    },
    {
      "cell_type": "code",
      "source": [
        "train_targets, test_targets = model_selection.train_test_split(\n",
        "    node_label, train_size=0.8, test_size=None\n",
        ")\n",
        "generator = RelationalFullBatchNodeGenerator(G, sparse=True)\n",
        "\n",
        "train_gen = generator.flow(train_targets.index, targets=train_targets)\n",
        "test_gen = generator.flow(test_targets.index, targets=test_targets)"
      ],
      "metadata": {
        "id": "vEV3odac0mMR"
      },
      "execution_count": null,
      "outputs": []
    },
    {
      "cell_type": "markdown",
      "source": [
        "## Train the RGCN as the node label prediction task"
      ],
      "metadata": {
        "id": "tl9R4AZe3GER"
      }
    },
    {
      "cell_type": "code",
      "source": [
        "rgcn = RGCN(\n",
        "    layer_sizes=[5, 3],\n",
        "    activations=[\"relu\", \"relu\"],\n",
        "    generator=generator,\n",
        "    bias=True,\n",
        "    num_bases=20,\n",
        "    dropout=0.5,\n",
        ")\n",
        "x_in, x_out = rgcn.in_out_tensors()\n",
        "\n",
        "predictions = Dense(train_targets.shape[-1], activation=\"softmax\")(x_out)\n",
        "model = Model(inputs=x_in, outputs=predictions)\n",
        "model.compile(\n",
        "    loss=\"categorical_crossentropy\",\n",
        "    optimizer=keras.optimizers.Adam(0.01),\n",
        "    metrics=[\"acc\"],\n",
        ")\n",
        "history = model.fit(train_gen, validation_data=test_gen, epochs=20)\n",
        "sg.utils.plot_history(history)\n",
        "test_metrics = model.evaluate(test_gen)\n",
        "print(\"\\nTest Set Metrics:\")\n",
        "for name, val in zip(model.metrics_names, test_metrics):\n",
        "    print(\"\\t{}: {:0.4f}\".format(name, val))"
      ],
      "metadata": {
        "id": "7DkTv3OW1ERB",
        "outputId": "051f352b-3727-46bf-fcb9-beb589552a1a",
        "colab": {
          "base_uri": "https://localhost:8080/",
          "height": 1000
        }
      },
      "execution_count": null,
      "outputs": [
        {
          "output_type": "stream",
          "name": "stdout",
          "text": [
            "Epoch 1/20\n",
            "1/1 [==============================] - 1s 1s/step - loss: 0.0000e+00 - acc: 0.3333 - val_loss: 0.0000e+00 - val_acc: 1.0000\n",
            "Epoch 2/20\n",
            "1/1 [==============================] - 0s 48ms/step - loss: 0.0000e+00 - acc: 0.3333 - val_loss: 0.0000e+00 - val_acc: 1.0000\n",
            "Epoch 3/20\n",
            "1/1 [==============================] - 0s 55ms/step - loss: 0.0000e+00 - acc: 0.3333 - val_loss: 0.0000e+00 - val_acc: 1.0000\n",
            "Epoch 4/20\n",
            "1/1 [==============================] - 0s 51ms/step - loss: 0.0000e+00 - acc: 0.3333 - val_loss: 0.0000e+00 - val_acc: 1.0000\n",
            "Epoch 5/20\n",
            "1/1 [==============================] - 0s 51ms/step - loss: 0.0000e+00 - acc: 0.3333 - val_loss: 0.0000e+00 - val_acc: 1.0000\n",
            "Epoch 6/20\n",
            "1/1 [==============================] - 0s 56ms/step - loss: 0.0000e+00 - acc: 0.3333 - val_loss: 0.0000e+00 - val_acc: 1.0000\n",
            "Epoch 7/20\n",
            "1/1 [==============================] - 0s 48ms/step - loss: 0.0000e+00 - acc: 0.3333 - val_loss: 0.0000e+00 - val_acc: 1.0000\n",
            "Epoch 8/20\n",
            "1/1 [==============================] - 0s 46ms/step - loss: 0.0000e+00 - acc: 0.3333 - val_loss: 0.0000e+00 - val_acc: 1.0000\n",
            "Epoch 9/20\n",
            "1/1 [==============================] - 0s 48ms/step - loss: 0.0000e+00 - acc: 0.3333 - val_loss: 0.0000e+00 - val_acc: 1.0000\n",
            "Epoch 10/20\n",
            "1/1 [==============================] - 0s 44ms/step - loss: 0.0000e+00 - acc: 0.3333 - val_loss: 0.0000e+00 - val_acc: 1.0000\n",
            "Epoch 11/20\n",
            "1/1 [==============================] - 0s 49ms/step - loss: 0.0000e+00 - acc: 0.3333 - val_loss: 0.0000e+00 - val_acc: 1.0000\n",
            "Epoch 12/20\n",
            "1/1 [==============================] - 0s 45ms/step - loss: 0.0000e+00 - acc: 0.3333 - val_loss: 0.0000e+00 - val_acc: 1.0000\n",
            "Epoch 13/20\n",
            "1/1 [==============================] - 0s 48ms/step - loss: 0.0000e+00 - acc: 0.3333 - val_loss: 0.0000e+00 - val_acc: 1.0000\n",
            "Epoch 14/20\n",
            "1/1 [==============================] - 0s 48ms/step - loss: 0.0000e+00 - acc: 0.3333 - val_loss: 0.0000e+00 - val_acc: 1.0000\n",
            "Epoch 15/20\n",
            "1/1 [==============================] - 0s 44ms/step - loss: 0.0000e+00 - acc: 0.3333 - val_loss: 0.0000e+00 - val_acc: 1.0000\n",
            "Epoch 16/20\n",
            "1/1 [==============================] - 0s 43ms/step - loss: 0.0000e+00 - acc: 0.3333 - val_loss: 0.0000e+00 - val_acc: 1.0000\n",
            "Epoch 17/20\n",
            "1/1 [==============================] - 0s 52ms/step - loss: 0.0000e+00 - acc: 0.3333 - val_loss: 0.0000e+00 - val_acc: 1.0000\n",
            "Epoch 18/20\n",
            "1/1 [==============================] - 0s 47ms/step - loss: 0.0000e+00 - acc: 0.3333 - val_loss: 0.0000e+00 - val_acc: 1.0000\n",
            "Epoch 19/20\n",
            "1/1 [==============================] - 0s 48ms/step - loss: 0.0000e+00 - acc: 0.3333 - val_loss: 0.0000e+00 - val_acc: 1.0000\n",
            "Epoch 20/20\n",
            "1/1 [==============================] - 0s 54ms/step - loss: 0.0000e+00 - acc: 0.3333 - val_loss: 0.0000e+00 - val_acc: 1.0000\n",
            "1/1 [==============================] - 0s 51ms/step - loss: 0.0000e+00 - acc: 1.0000\n",
            "\n",
            "Test Set Metrics:\n",
            "\tloss: 0.0000\n",
            "\tacc: 1.0000\n"
          ]
        },
        {
          "output_type": "display_data",
          "data": {
            "text/plain": [
              "<Figure size 504x576 with 2 Axes>"
            ],
            "image/png": "[encoded data removed]"
          },
          "metadata": {
            "needs_background": "light"
          }
        }
      ]
    },
    {
      "cell_type": "markdown",
      "metadata": {
        "id": "mQLlJrMYqz6F"
      },
      "source": [
        "## Obtain Node embeddings from the layer[-2] before softmax classification"
      ]
    },
    {
      "cell_type": "code",
      "source": [
        "from sklearn.decomposition import PCA\n",
        "from sklearn.manifold import TSNE\n",
        "\n",
        "# get embeddings for all people nodes\n",
        "all_gen = generator.flow(node_label.index, targets=node_label)\n",
        "embedding_model = Model(inputs=x_in, outputs=x_out)\n",
        "emb = embedding_model.predict(all_gen)"
      ],
      "metadata": {
        "id": "EKbdMzwH1wIL",
        "outputId": "863715c9-8fdc-4035-8cc6-f7b6284ae7e1",
        "colab": {
          "base_uri": "https://localhost:8080/"
        }
      },
      "execution_count": null,
      "outputs": [
        {
          "output_type": "stream",
          "name": "stderr",
          "text": [
            "WARNING:tensorflow:6 out of the last 6 calls to <function Model.make_predict_function.<locals>.predict_function at 0x7f66f9ed1d30> triggered tf.function retracing. Tracing is expensive and the excessive number of tracings could be due to (1) creating @tf.function repeatedly in a loop, (2) passing tensors with different shapes, (3) passing Python objects instead of tensors. For (1), please define your @tf.function outside of the loop. For (2), @tf.function has reduce_retracing=True option that can avoid unnecessary retracing. For (3), please refer to https://www.tensorflow.org/guide/function#controlling_retracing and https://www.tensorflow.org/api_docs/python/tf/function for  more details.\n"
          ]
        },
        {
          "output_type": "stream",
          "name": "stdout",
          "text": [
            "1/1 [==============================] - 0s 102ms/step\n"
          ]
        }
      ]
    },
    {
      "cell_type": "markdown",
      "source": [
        "## visualize the embedding results"
      ],
      "metadata": {
        "id": "PZ4bRYyx5Pe8"
      }
    },
    {
      "cell_type": "code",
      "source": [
        "X = emb.squeeze(0)\n",
        "y = node_label.idxmax(axis=\"columns\").astype(\"category\")\n",
        "\n",
        "if X.shape[1] > 2:\n",
        "    transform = TSNE\n",
        "\n",
        "    trans = transform(n_components=2)\n",
        "    emb_transformed = pd.DataFrame(trans.fit_transform(X), index=node_label.index)\n",
        "    emb_transformed[\"label\"] = y\n",
        "else:\n",
        "    emb_transformed = pd.DataFrame(X, index=node_label.index)\n",
        "    emb_transformed = emb_transformed.rename(columns={\"0\": 0, \"1\": 1})\n",
        "    emb_transformed[\"label\"] = y\n",
        "\n",
        "alpha = 0.7\n",
        "\n",
        "fig, ax = plt.subplots(figsize=(7, 7))\n",
        "ax.scatter(\n",
        "    emb_transformed[0],\n",
        "    emb_transformed[1],\n",
        "    c=emb_transformed[\"label\"].cat.codes,\n",
        "    cmap=\"jet\",\n",
        "    alpha=alpha,\n",
        ")\n",
        "ax.set(aspect=\"equal\", xlabel=\"$X_1$\", ylabel=\"$X_2$\")\n",
        "plt.title(\n",
        "    \"{} visualization of RGCN embeddings\".format(transform.__name__)\n",
        ")\n",
        "plt.show()"
      ],
      "metadata": {
        "id": "nGCjsDf02VFK",
        "outputId": "4164b5a0-145f-4d36-d71c-bade15f2cf70",
        "colab": {
          "base_uri": "https://localhost:8080/",
          "height": 531
        }
      },
      "execution_count": null,
      "outputs": [
        {
          "output_type": "stream",
          "name": "stderr",
          "text": [
            "/usr/local/lib/python3.8/dist-packages/sklearn/manifold/_t_sne.py:780: FutureWarning: The default initialization in TSNE will change from 'random' to 'pca' in 1.2.\n",
            "  warnings.warn(\n",
            "/usr/local/lib/python3.8/dist-packages/sklearn/manifold/_t_sne.py:790: FutureWarning: The default learning rate in TSNE will change from 200.0 to 'auto' in 1.2.\n",
            "  warnings.warn(\n"
          ]
        },
        {
          "output_type": "display_data",
          "data": {
            "text/plain": [
              "<Figure size 504x504 with 1 Axes>"
            ],
            "image/png": "[encoded data removed]"
          },
          "metadata": {
            "needs_background": "light"
          }
        }
      ]
    },
    {
      "cell_type": "code",
      "source": [
        "X"
      ],
      "metadata": {
        "id": "DINf8Gdw3ft3",
        "outputId": "8474cb51-0eaa-48ce-ce3b-d5f6c289f0cb",
        "colab": {
          "base_uri": "https://localhost:8080/"
        }
      },
      "execution_count": null,
      "outputs": [
        {
          "output_type": "execute_result",
          "data": {
            "text/plain": [
              "array([[0.        , 1.8225187 , 2.1106546 ],\n",
              "       [0.        , 0.15924925, 0.7967439 ],\n",
              "       [0.        , 0.1522286 , 1.1784703 ],\n",
              "       [0.        , 0.36494994, 0.        ]], dtype=float32)"
            ]
          },
          "metadata": {},
          "execution_count": 84
        }
      ]
    }
  ],
  "metadata": {
    "kernelspec": {
      "display_name": "Python 3",
      "language": "python",
      "name": "python3"
    },
    "language_info": {
      "codemirror_mode": {
        "name": "ipython",
        "version": 3
      },
      "file_extension": ".py",
      "mimetype": "text/x-python",
      "name": "python",
      "nbconvert_exporter": "python",
      "pygments_lexer": "ipython3",
      "version": "3.6.9"
    },
    "colab": {
      "provenance": []
    }
  },
  "nbformat": 4,
  "nbformat_minor": 0
}