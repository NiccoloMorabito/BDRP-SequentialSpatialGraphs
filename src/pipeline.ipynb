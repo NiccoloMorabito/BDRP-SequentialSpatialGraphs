{
 "cells": [
  {
   "cell_type": "code",
   "execution_count": 1,
   "metadata": {},
   "outputs": [],
   "source": [
    "import torch\n",
    "import torch.nn as nn\n",
    "from torch.utils.data import Dataset, DataLoader\n",
    "import time\n",
    "import argparse\n",
    "import networkx as nx\n",
    "import os\n",
    "\n",
    "import warnings\n",
    "warnings.filterwarnings(\"ignore\")\n",
    "\n",
    "from st_graph_generation import detect_with_networkx\n",
    "from common_utils.stg_utils import load_video_params\n",
    "from common_utils.process import graph_to_feature_vector, adj_to_normalized_tensor\n",
    "from embedding_training.transformer_classifier import Net\n",
    "from anomaly_generation.graph_corruption import Corruptor\n",
    "\n",
    "VIDEOS_FOLDER = \"../videos/\"\n",
    "GRAPH_FOLDER = \"../graphs/\""
   ]
  },
  {
   "cell_type": "code",
   "execution_count": 6,
   "metadata": {},
   "outputs": [
    {
     "name": "stderr",
     "output_type": "stream",
     "text": [
      "YOLOR 🚀 2023-1-24 torch 1.12.1 CPU\n",
      "\n"
     ]
    },
    {
     "name": "stdout",
     "output_type": "stream",
     "text": [
      "Fusing layers... \n",
      "RepConv.fuse_repvgg_block\n",
      "RepConv.fuse_repvgg_block\n",
      "RepConv.fuse_repvgg_block\n"
     ]
    },
    {
     "name": "stderr",
     "output_type": "stream",
     "text": [
      "Model Summary: 306 layers, 36905341 parameters, 6652669 gradients\n"
     ]
    },
    {
     "name": "stdout",
     "output_type": "stream",
     "text": [
      "\n",
      "video 1/4 (45/64797) adoc_part1.avi"
     ]
    },
    {
     "ename": "KeyboardInterrupt",
     "evalue": "",
     "output_type": "error",
     "traceback": [
      "\u001b[0;31m---------------------------------------------------------------------------\u001b[0m",
      "\u001b[0;31mKeyboardInterrupt\u001b[0m                         Traceback (most recent call last)",
      "Cell \u001b[0;32mIn [6], line 5\u001b[0m\n\u001b[1;32m      3\u001b[0m \u001b[39mwhile\u001b[39;00m \u001b[39mTrue\u001b[39;00m:\n\u001b[1;32m      4\u001b[0m     \u001b[39mtry\u001b[39;00m:\n\u001b[0;32m----> 5\u001b[0m         videoname_to_graph_seq \u001b[39m=\u001b[39m detect_with_networkx\u001b[39m.\u001b[39;49mvideos_to_graphs(source\u001b[39m=\u001b[39;49mVIDEOS_FOLDER, dest\u001b[39m=\u001b[39;49mGRAPH_FOLDER, save_graphs\u001b[39m=\u001b[39;49m\u001b[39mTrue\u001b[39;49;00m)\n\u001b[1;32m      6\u001b[0m     \u001b[39mexcept\u001b[39;00m \u001b[39mException\u001b[39;00m \u001b[39mas\u001b[39;00m e:\n\u001b[1;32m      7\u001b[0m         \u001b[39mprint\u001b[39m(e)\n",
      "File \u001b[0;32m~/Library/CloudStorage/GoogleDrive-morabito.1808746@studenti.uniroma1.it/My Drive/BDMA/Semester3 CS/Big Data Research Project/BDRP-Private/src/st_graph_generation/detect_with_networkx.py:178\u001b[0m, in \u001b[0;36mvideos_to_graphs\u001b[0;34m(source, dest, save_graphs, weights, img_size, trace, device, augment, conf_thres, iou_thres, classes, agnostic_nms, run_tracking, unique_track_color, view_img, show_fps, show_track)\u001b[0m\n\u001b[1;32m    176\u001b[0m videoname_to_graph_seq \u001b[39m=\u001b[39m \u001b[39mdict\u001b[39m()\n\u001b[1;32m    177\u001b[0m frame_i \u001b[39m=\u001b[39m \u001b[39m0\u001b[39m\n\u001b[0;32m--> 178\u001b[0m \u001b[39mfor\u001b[39;00m path, img, im0s, vid_cap, videoname \u001b[39min\u001b[39;00m dataset:\n\u001b[1;32m    179\u001b[0m     \u001b[39mif\u001b[39;00m videoname \u001b[39mnot\u001b[39;00m \u001b[39min\u001b[39;00m videoname_to_graph_seq\u001b[39m.\u001b[39mkeys():\n\u001b[1;32m    180\u001b[0m         videoname_to_graph_seq[videoname] \u001b[39m=\u001b[39m \u001b[39mlist\u001b[39m()\n",
      "File \u001b[0;32m~/morabito.1808746@studenti.uniroma1.it - Google Drive/My Drive/BDMA/Semester3 CS/Big Data Research Project/BDRP-private/src/object_detection/yolov7_with_object_tracking/utils/datasets.py:169\u001b[0m, in \u001b[0;36mLoadImages.__next__\u001b[0;34m(self)\u001b[0m\n\u001b[1;32m    166\u001b[0m \u001b[39mif\u001b[39;00m \u001b[39mself\u001b[39m\u001b[39m.\u001b[39mvideo_flag[\u001b[39mself\u001b[39m\u001b[39m.\u001b[39mcount]:\n\u001b[1;32m    167\u001b[0m     \u001b[39m# Read video\u001b[39;00m\n\u001b[1;32m    168\u001b[0m     \u001b[39mself\u001b[39m\u001b[39m.\u001b[39mmode \u001b[39m=\u001b[39m \u001b[39m'\u001b[39m\u001b[39mvideo\u001b[39m\u001b[39m'\u001b[39m\n\u001b[0;32m--> 169\u001b[0m     ret_val, img0 \u001b[39m=\u001b[39m \u001b[39mself\u001b[39;49m\u001b[39m.\u001b[39;49mcap\u001b[39m.\u001b[39;49mread()\n\u001b[1;32m    170\u001b[0m     \u001b[39mif\u001b[39;00m \u001b[39mnot\u001b[39;00m ret_val: \u001b[39m# the video is over\u001b[39;00m\n\u001b[1;32m    171\u001b[0m         \u001b[39mself\u001b[39m\u001b[39m.\u001b[39mcount \u001b[39m+\u001b[39m\u001b[39m=\u001b[39m \u001b[39m1\u001b[39m\n",
      "\u001b[0;31mKeyboardInterrupt\u001b[0m: "
     ]
    }
   ],
   "source": [
    "# to run only once to convert all the videos in VIDEOS_FOLDER into graphs\n",
    "with torch.no_grad():\n",
    "    while True:\n",
    "        try:\n",
    "            videoname_to_graph_seq = detect_with_networkx.videos_to_graphs(source=VIDEOS_FOLDER, dest=GRAPH_FOLDER, save_graphs=True)\n",
    "        except Exception as e:\n",
    "            print(e)\n",
    "            continue\n",
    "        break"
   ]
  },
  {
   "cell_type": "code",
   "execution_count": null,
   "metadata": {},
   "outputs": [],
   "source": [
    "'''\n",
    "for videoname, graph_seq in videoname_to_graph_seq.items():\n",
    "    print(f\"Saving graphs of {videoname} ({len(videoname_to_graph_seq[videoname])} frames)\")\n",
    "    videoname_folder = os.path.join(GRAPH_FOLDER, videoname)\n",
    "    os.mkdir(videoname_folder)\n",
    "    for i, graph in enumerate(graph_seq):\n",
    "        graph_path = os.path.join(videoname_folder, f\"{i}.gpickle\")\n",
    "        nx.write_gpickle(graph,graph_path)\n",
    "'''"
   ]
  },
  {
   "cell_type": "code",
   "execution_count": 2,
   "metadata": {},
   "outputs": [
    {
     "name": "stdout",
     "output_type": "stream",
     "text": [
      "../graphs/adoc_part1.avi\n"
     ]
    },
    {
     "ename": "KeyboardInterrupt",
     "evalue": "",
     "output_type": "error",
     "traceback": [
      "\u001b[0;31m---------------------------------------------------------------------------\u001b[0m",
      "\u001b[0;31mKeyboardInterrupt\u001b[0m                         Traceback (most recent call last)",
      "Cell \u001b[0;32mIn [2], line 8\u001b[0m\n\u001b[1;32m      6\u001b[0m \u001b[39m# if in the list comprehension is to get only files for frames\u001b[39;00m\n\u001b[1;32m      7\u001b[0m graph_paths \u001b[39m=\u001b[39m [os\u001b[39m.\u001b[39mpath\u001b[39m.\u001b[39mjoin(videoname_folder, p) \u001b[39mfor\u001b[39;00m p \u001b[39min\u001b[39;00m os\u001b[39m.\u001b[39mlistdir(videoname_folder) \u001b[39mif\u001b[39;00m p[\u001b[39m0\u001b[39m]\u001b[39m.\u001b[39misdigit()]\n\u001b[0;32m----> 8\u001b[0m graph_seq \u001b[39m=\u001b[39m [nx\u001b[39m.\u001b[39mread_gpickle(graph_path) \u001b[39mfor\u001b[39;00m graph_path \u001b[39min\u001b[39;00m graph_paths]\n\u001b[1;32m     10\u001b[0m \u001b[39m# CORRUPTION\u001b[39;00m\n\u001b[1;32m     11\u001b[0m video_params \u001b[39m=\u001b[39m load_video_params(videoname_folder)\n",
      "Cell \u001b[0;32mIn [2], line 8\u001b[0m, in \u001b[0;36m<listcomp>\u001b[0;34m(.0)\u001b[0m\n\u001b[1;32m      6\u001b[0m \u001b[39m# if in the list comprehension is to get only files for frames\u001b[39;00m\n\u001b[1;32m      7\u001b[0m graph_paths \u001b[39m=\u001b[39m [os\u001b[39m.\u001b[39mpath\u001b[39m.\u001b[39mjoin(videoname_folder, p) \u001b[39mfor\u001b[39;00m p \u001b[39min\u001b[39;00m os\u001b[39m.\u001b[39mlistdir(videoname_folder) \u001b[39mif\u001b[39;00m p[\u001b[39m0\u001b[39m]\u001b[39m.\u001b[39misdigit()]\n\u001b[0;32m----> 8\u001b[0m graph_seq \u001b[39m=\u001b[39m [nx\u001b[39m.\u001b[39;49mread_gpickle(graph_path) \u001b[39mfor\u001b[39;00m graph_path \u001b[39min\u001b[39;00m graph_paths]\n\u001b[1;32m     10\u001b[0m \u001b[39m# CORRUPTION\u001b[39;00m\n\u001b[1;32m     11\u001b[0m video_params \u001b[39m=\u001b[39m load_video_params(videoname_folder)\n",
      "File \u001b[0;32m<class 'networkx.utils.decorators.argmap'> compilation 5:5\u001b[0m, in \u001b[0;36margmap_read_gpickle_1\u001b[0;34m(path)\u001b[0m\n\u001b[1;32m      3\u001b[0m \u001b[39mimport\u001b[39;00m \u001b[39mgzip\u001b[39;00m\n\u001b[1;32m      4\u001b[0m \u001b[39mimport\u001b[39;00m \u001b[39minspect\u001b[39;00m\n\u001b[0;32m----> 5\u001b[0m \u001b[39mimport\u001b[39;00m \u001b[39mitertools\u001b[39;00m\n\u001b[1;32m      6\u001b[0m \u001b[39mimport\u001b[39;00m \u001b[39mre\u001b[39;00m\n\u001b[1;32m      7\u001b[0m \u001b[39mfrom\u001b[39;00m \u001b[39mcollections\u001b[39;00m \u001b[39mimport\u001b[39;00m defaultdict\n",
      "File \u001b[0;32m~/Library/Python/3.9/lib/python/site-packages/networkx/readwrite/gpickle.py:109\u001b[0m, in \u001b[0;36mread_gpickle\u001b[0;34m(path)\u001b[0m\n\u001b[1;32m    104\u001b[0m msg \u001b[39m=\u001b[39m (\n\u001b[1;32m    105\u001b[0m     \u001b[39m\"\u001b[39m\u001b[39mread_gpickle is deprecated and will be removed in 3.0.\u001b[39m\u001b[39m\"\u001b[39m\n\u001b[1;32m    106\u001b[0m     \u001b[39m\"\u001b[39m\u001b[39mUse ``pickle.load(path)``\u001b[39m\u001b[39m\"\u001b[39m\n\u001b[1;32m    107\u001b[0m )\n\u001b[1;32m    108\u001b[0m warnings\u001b[39m.\u001b[39mwarn(msg, \u001b[39mDeprecationWarning\u001b[39;00m, stacklevel\u001b[39m=\u001b[39m\u001b[39m2\u001b[39m)\n\u001b[0;32m--> 109\u001b[0m \u001b[39mreturn\u001b[39;00m pickle\u001b[39m.\u001b[39;49mload(path)\n",
      "File \u001b[0;32m~/Library/CloudStorage/GoogleDrive-morabito.1808746@studenti.uniroma1.it/My Drive/BDMA/Semester3 CS/Big Data Research Project/BDRP-Private/src/st_graph_generation/detect_with_networkx.py:50\u001b[0m, in \u001b[0;36mNode.__hash__\u001b[0;34m(self)\u001b[0m\n\u001b[1;32m     47\u001b[0m class_name: \u001b[39mstr\u001b[39m \u001b[39m=\u001b[39m field(default\u001b[39m=\u001b[39m\u001b[39m\"\u001b[39m\u001b[39m\"\u001b[39m)\n\u001b[1;32m     48\u001b[0m centroid: \u001b[39mtuple\u001b[39m \u001b[39m=\u001b[39m field(default\u001b[39m=\u001b[39m(\u001b[39m0\u001b[39m, \u001b[39m0\u001b[39m))\n\u001b[0;32m---> 50\u001b[0m \u001b[39mdef\u001b[39;00m \u001b[39m__hash__\u001b[39m(\u001b[39mself\u001b[39m):\n\u001b[1;32m     51\u001b[0m     \u001b[39mreturn\u001b[39;00m \u001b[39mhash\u001b[39m(\u001b[39mself\u001b[39m\u001b[39m.\u001b[39mid)\n\u001b[1;32m     53\u001b[0m \u001b[39m# TODO remove?\u001b[39;00m\n",
      "\u001b[0;31mKeyboardInterrupt\u001b[0m: "
     ]
    }
   ],
   "source": [
    "for videoname in os.listdir(GRAPH_FOLDER):\n",
    "    if videoname.startswith('.'):\n",
    "        continue\n",
    "    videoname_folder = os.path.join(GRAPH_FOLDER, videoname)\n",
    "    print(videoname_folder)\n",
    "    # if in the list comprehension is to get only files for frames\n",
    "    graph_paths = [os.path.join(videoname_folder, p) for p in os.listdir(videoname_folder) if p[0].isdigit()]\n",
    "    graph_seq = [nx.read_gpickle(graph_path) for graph_path in graph_paths]\n",
    "\n",
    "    # CORRUPTION\n",
    "    video_params = load_video_params(videoname_folder)\n",
    "    w, h = video_params[\"width\"], video_params[\"height\"]\n",
    "    #TODO so far, is_stg must be true because only the distance is implemented on the edge as 'weight'\n",
    "    corruptor = Corruptor(frame_width=w, frame_height=h, is_stg=True)\n",
    "\n",
    "    corrupted_graph_seq = [corruptor.corrupt_graph(graph) for graph in graph_seq]\n",
    "    \n",
    "print(len(graph_seq))\n",
    "print(len(corrupted_graph_seq))"
   ]
  },
  {
   "cell_type": "code",
   "execution_count": null,
   "metadata": {},
   "outputs": [],
   "source": [
    "'''DEBUGGING CORRUPTION PROCESS\n",
    "for videoname in os.listdir(GRAPH_FOLDER):\n",
    "    if videoname.startswith('.'):\n",
    "        continue\n",
    "    videoname_folder = os.path.join(GRAPH_FOLDER, videoname)\n",
    "    video_params = load_video_params(videoname_folder)\n",
    "    w, h = video_params[\"width\"], video_params[\"height\"]\n",
    "\n",
    "    graph_paths = [os.path.join(videoname_folder, graph_path) for graph_path in os.listdir(videoname_folder)\\\n",
    "                if graph_path[0].isdigit()]\n",
    "    \n",
    "    graph_seq = [nx.read_gpickle(fpath) for fpath in graph_paths]\n",
    "\n",
    "    corruptor = Corruptor(frame_width=w, frame_height=h, is_stg=True)\n",
    "    for graph in graph_seq:\n",
    "        s1 = set([n.id for n in graph.nodes])\n",
    "        corr_graph = corruptor.corrupt_graph(graph)\n",
    "        s2 = set([n.id for n in corr_graph.nodes])\n",
    "        \n",
    "        nx.adjacency_matrix(corr_graph)\n",
    "'''"
   ]
  },
  {
   "cell_type": "code",
   "execution_count": 2,
   "metadata": {},
   "outputs": [
    {
     "name": "stdout",
     "output_type": "stream",
     "text": [
      "../graphs/adoc_part1.avi\n",
      "Number of clips: 36\n"
     ]
    }
   ],
   "source": [
    "ANOMALY_LABEL = 1.\n",
    "NORMAL_LABEL = 0.\n",
    "NUM_NODE_FEATURES = 85 #TODO see if you can dynamically infer it\n",
    "FRAMES_PER_VIDEOCLIP = 1000 # about 30 seconds per clip\n",
    "BATCH_SIZE = 1 #TODO batching problems, not working: I probably need to pad the features and adj vectors in __tensorize\n",
    "#TODO or maybe using the collate_fn I can fix it\n",
    "\n",
    "\n",
    "class GraphDataset(Dataset):\n",
    "    def __init__(self, graph_folder: str, frames_per_videoclip: int = None):\n",
    "        self.graph_folder = graph_folder\n",
    "        self.frames_per_videoclip = frames_per_videoclip #to cut the video in videoclips\n",
    "        self.__load_data()\n",
    "    \n",
    "    def __load_data(self):\n",
    "        #TODO make the code of this function more readable\n",
    "\n",
    "        self.tensored_videoclips = list()\n",
    "        self.labels = list()\n",
    "\n",
    "        for videoname in os.listdir(GRAPH_FOLDER):\n",
    "            if videoname.startswith('.'):\n",
    "                continue\n",
    "            videoname_folder = os.path.join(GRAPH_FOLDER, videoname)\n",
    "            video_params = load_video_params(videoname_folder)\n",
    "            print(videoname_folder)\n",
    "            \n",
    "            # get all the files that contain graphs for videoname\n",
    "            graph_paths = [os.path.join(videoname_folder, graph_path) for graph_path in os.listdir(videoname_folder)\\\n",
    "                if graph_path[0].isdigit()]\n",
    "                            \n",
    "            # divide the video in videoclips if specified (many videoclips per videoname), otherwise one video per videoname\n",
    "            if self.frames_per_videoclip:\n",
    "                videos_fpaths = [graph_paths[x:x+self.frames_per_videoclip] for x in range(0, len(graph_paths), self.frames_per_videoclip)]\n",
    "            else:\n",
    "                videos_fpaths = [graph_paths]\n",
    "                        \n",
    "            # each videoclip in pytorch\n",
    "            for video_fpaths in videos_fpaths[:-1]:\n",
    "                #TODO the last fpath is skipped because it doesn't have the right number of frames (FRAMES_PER_VIDEOCLIP)\n",
    "                if len(video_fpaths) != self.frames_per_videoclip:\n",
    "                    continue\n",
    "                #TODO currently, a starting empty token is added to each sequence\n",
    "\n",
    "                # NORMAL GRAPHS FOR CURRENT VIDEO\n",
    "                graph_seq = [nx.read_gpickle(fpath) for fpath in video_fpaths] #TODO move this before, as soon as you get the paths ? (even before clipping the video)\n",
    "\n",
    "                features_and_adjs = [self.__get_empty_token()] + [self.__tensorize(graph) for graph in graph_seq]\n",
    "                self.tensored_videoclips.append(features_and_adjs)\n",
    "                self.labels.append(torch.tensor(NORMAL_LABEL))\n",
    "\n",
    "                \n",
    "                # CORRUPTED GRAPHS FOR CURRENT VIDEO\n",
    "                w, h = video_params[\"width\"], video_params[\"height\"]\n",
    "                #TODO so far, is_stg must be true because only the distance is implemented on the edge as 'weight'\n",
    "                corruptor = Corruptor(frame_width=w, frame_height=h, is_stg=True)\n",
    "                corrupted_graph_seq = [corruptor.corrupt_graph(graph) for graph in graph_seq]\n",
    "\n",
    "                corr_features_and_adjs = [self.__get_empty_token()] + [self.__tensorize(graph) for graph in corrupted_graph_seq]\n",
    "                self.tensored_videoclips.append(corr_features_and_adjs)\n",
    "                self.labels.append(torch.tensor(ANOMALY_LABEL))\n",
    "                \n",
    "    def __tensorize(self, graph):\n",
    "        features = graph_to_feature_vector(graph)\n",
    "        adj = adj_to_normalized_tensor(nx.adjacency_matrix(graph))\n",
    "        return features, adj\n",
    "    \n",
    "    def __get_empty_token(self):\n",
    "        num_nodes = 20 #TODO this number in normal/abnormal graphs change everytime, see if defining a constant one is fine\n",
    "        empty_features = torch.zeros(num_nodes, NUM_NODE_FEATURES)\n",
    "        empty_adj = torch.zeros(num_nodes, num_nodes)\n",
    "        return empty_features, empty_adj\n",
    "\n",
    "    def __len__(self):\n",
    "        return len(self.tensored_videoclips)\n",
    "\n",
    "    def __getitem__(self, idx):\n",
    "        # returning features, adjacency for each frame in the videoclip and the videoclip label\n",
    "        return self.tensored_videoclips[idx], self.labels[idx]\n",
    "\n",
    "train_set = GraphDataset(GRAPH_FOLDER, frames_per_videoclip=FRAMES_PER_VIDEOCLIP)\n",
    "#train_set = GraphDataset(?????)\n",
    "print(f\"Number of clips: {len(train_set)}\")\n",
    "\n",
    "train_dataloader = DataLoader(train_set, batch_size=BATCH_SIZE, shuffle=False)\n",
    "#test_dataloader = DataLoader(test_data, batch_size=BATCH_SIZE, shuffle=False)"
   ]
  },
  {
   "cell_type": "code",
   "execution_count": 3,
   "metadata": {},
   "outputs": [
    {
     "name": "stdout",
     "output_type": "stream",
     "text": [
      "torch.Size([1])\n",
      "torch.Size([1, 20, 85])\n",
      "torch.Size([1, 20, 20])\n"
     ]
    },
    {
     "data": {
      "text/plain": [
       "'\\ntorch.Size([2])\\ntorch.Size([2, 20, 85])\\ntorch.Size([2, 20, 20])\\n'"
      ]
     },
     "execution_count": 3,
     "metadata": {},
     "output_type": "execute_result"
    }
   ],
   "source": [
    "def collate_fn(batch):\n",
    "    return batch\n",
    "\n",
    "train_dataloader = DataLoader(train_set, batch_size=1, shuffle=False) #, collate_fn=collate_fn)\n",
    "\n",
    "for batch in iter(train_dataloader):\n",
    "    seq, label = batch #len(seq) = FRAMES_PER_VIDEOCLIP + 1\n",
    "    print(label.shape)\n",
    "    features, adj = seq[0]\n",
    "    print(features.shape)\n",
    "    print(adj.shape)\n",
    "    break\n",
    "\n",
    "'''\n",
    "torch.Size([2])\n",
    "torch.Size([2, 20, 85])\n",
    "torch.Size([2, 20, 20])\n",
    "'''"
   ]
  },
  {
   "cell_type": "code",
   "execution_count": 3,
   "metadata": {},
   "outputs": [
    {
     "data": {
      "text/plain": [
       "'\\nfeatures = graph_to_feature_vector(graph)\\nfeatures.shape\\n\\nadj = nx.adjacency_matrix(graph)\\nadj = adj_to_normalized_tensor(adj)\\nadj.shape\\n'"
      ]
     },
     "execution_count": 3,
     "metadata": {},
     "output_type": "execute_result"
    }
   ],
   "source": [
    "'''\n",
    "features = graph_to_feature_vector(graph)\n",
    "features.shape\n",
    "\n",
    "adj = nx.adjacency_matrix(graph)\n",
    "adj = adj_to_normalized_tensor(adj)\n",
    "adj.shape\n",
    "'''"
   ]
  },
  {
   "cell_type": "code",
   "execution_count": 3,
   "metadata": {},
   "outputs": [
    {
     "name": "stdout",
     "output_type": "stream",
     "text": [
      "starting\n",
      "epoch=49 - epoch_loss=21.809617161750793, epoch accuracy: 0.5"
     ]
    }
   ],
   "source": [
    "''' TRAINING PART [WIP]'''\n",
    "# source (TODO delete) https://n8henrie.com/2021/08/writing-a-transformer-classifier-in-pytorch/\n",
    "\n",
    "from embedding_training.other_transformer_classifier import MyNet\n",
    "\n",
    "\n",
    "\n",
    "device = torch.device(\"cuda\" if torch.cuda.is_available() else \"cpu\")\n",
    "\n",
    "epochs = 50\n",
    "model = MyNet(\n",
    "    features_size=NUM_NODE_FEATURES,\n",
    "    embedding_size=8 #TODO decide a value for embedding vector (MUST BE EVEN and dividible by nhead) a low number is probably enough since most of the features are one-hot encoded ones\n",
    ").to(device)\n",
    "\n",
    "criterion = nn.BCELoss()\n",
    "lr = 1e-4\n",
    "optimizer = torch.optim.Adam(\n",
    "    (p for p in model.parameters() if p.requires_grad), lr=lr\n",
    ")\n",
    "torch.manual_seed(0)\n",
    "\n",
    "print(\"starting\")\n",
    "for epoch in range(epochs):\n",
    "    epoch_loss = 0\n",
    "    epoch_correct = 0\n",
    "    epoch_count = 0\n",
    "    for batch in iter(train_dataloader):\n",
    "        seq_features_and_adjs, label = batch #len(seq) = FRAMES_PER_VIDEOCLIP + 1\n",
    "        seq_features_and_adjs = [(features.to(device), adj.to(device)) for features, adj in seq_features_and_adjs]\n",
    "        label = label.to(device)\n",
    "\n",
    "        prediction = model.forward(seq_features_and_adjs)\n",
    "\n",
    "        label = label.unsqueeze(1) # or prediction = prediction.squeeze(1)\n",
    "        loss = criterion(prediction, label)\n",
    "\n",
    "        label = label.squeeze(1)\n",
    "        correct = prediction.argmax(axis=1) == label\n",
    "        acc = correct.sum().item() / correct.size(0)\n",
    "\n",
    "        epoch_correct += correct.sum().item()\n",
    "        epoch_count += correct.size(0)\n",
    "\n",
    "        epoch_loss += loss.item()\n",
    "\n",
    "        loss.backward()\n",
    "        torch.nn.utils.clip_grad_norm_(model.parameters(), 0.5)\n",
    "\n",
    "        optimizer.step()\n",
    "\n",
    "    '''\n",
    "    with torch.no_grad():\n",
    "        test_epoch_loss = 0\n",
    "        test_epoch_correct = 0\n",
    "        test_epoch_count = 0\n",
    "\n",
    "        for batch in iter(test_iter):\n",
    "            predictions = model(batch.text.to(device))\n",
    "            labels = batch.label.to(device) - 1\n",
    "            test_loss = criterion(predictions, labels)\n",
    "\n",
    "            correct = predictions.argmax(axis=1) == labels\n",
    "            acc = correct.sum().item() / correct.size(0)\n",
    "\n",
    "            test_epoch_correct += correct.sum().item()\n",
    "            test_epoch_count += correct.size(0)\n",
    "            test_epoch_loss += loss.item()\n",
    "    '''\n",
    "\n",
    "    print(f\"\\r{epoch=} - {epoch_loss=}, epoch accuracy: {epoch_correct / epoch_count}\", end=\"\")\n",
    "    #print(f\"{test_epoch_loss=}, \"test epoch accuracy: {test_epoch_correct / test_epoch_count}\")"
   ]
  },
  {
   "cell_type": "code",
   "execution_count": 18,
   "metadata": {},
   "outputs": [
    {
     "ename": "ModuleNotFoundError",
     "evalue": "No module named 'torchtext'",
     "output_type": "error",
     "traceback": [
      "\u001b[0;31m---------------------------------------------------------------------------\u001b[0m",
      "\u001b[0;31mModuleNotFoundError\u001b[0m                       Traceback (most recent call last)",
      "Cell \u001b[0;32mIn [18], line 6\u001b[0m\n\u001b[1;32m      3\u001b[0m \u001b[39mimport\u001b[39;00m \u001b[39mtorch\u001b[39;00m\n\u001b[1;32m      4\u001b[0m \u001b[39mimport\u001b[39;00m \u001b[39mtorch\u001b[39;00m\u001b[39m.\u001b[39;00m\u001b[39mnn\u001b[39;00m \u001b[39mas\u001b[39;00m \u001b[39mnn\u001b[39;00m\n\u001b[0;32m----> 6\u001b[0m \u001b[39mimport\u001b[39;00m \u001b[39mtorchtext\u001b[39;00m\n\u001b[1;32m      8\u001b[0m device \u001b[39m=\u001b[39m torch\u001b[39m.\u001b[39mdevice(\u001b[39m\"\u001b[39m\u001b[39mcuda\u001b[39m\u001b[39m\"\u001b[39m \u001b[39mif\u001b[39;00m torch\u001b[39m.\u001b[39mcuda\u001b[39m.\u001b[39mis_available() \u001b[39melse\u001b[39;00m \u001b[39m\"\u001b[39m\u001b[39mcpu\u001b[39m\u001b[39m\"\u001b[39m)\n\u001b[1;32m      9\u001b[0m batch_size \u001b[39m=\u001b[39m \u001b[39m30\u001b[39m\n",
      "\u001b[0;31mModuleNotFoundError\u001b[0m: No module named 'torchtext'"
     ]
    }
   ],
   "source": [
    "import math\n",
    "\n",
    "import torch\n",
    "import torch.nn as nn\n",
    "\n",
    "import torchtext\n",
    "\n",
    "device = torch.device(\"cuda\" if torch.cuda.is_available() else \"cpu\")\n",
    "batch_size = 30\n",
    "max_length = 256\n",
    "\n",
    "TEXT = torchtext.data.Field(\n",
    "    lower=True, include_lengths=False, batch_first=True\n",
    ")\n",
    "LABEL = torchtext.data.Field(sequential=False)\n",
    "train_txt, test_txt = torchtext.datasets.IMDB.splits(TEXT, LABEL)\n",
    "\n",
    "TEXT.build_vocab(\n",
    "    train_txt,\n",
    "    vectors=torchtext.vocab.GloVe(name=\"6B\", dim=50, max_vectors=50_000),\n",
    "    max_size=50_000,\n",
    ")\n",
    "\n",
    "LABEL.build_vocab(train_txt)\n",
    "\n",
    "train_iter, test_iter = torchtext.data.BucketIterator.splits(\n",
    "    (train_txt, test_txt),\n",
    "    batch_size=batch_size,\n",
    ")\n",
    "\n",
    "for idx, batch in enumerate(iter(train_iter)):\n",
    "    print(batch.text)"
   ]
  },
  {
   "attachments": {},
   "cell_type": "markdown",
   "metadata": {},
   "source": [
    "# CORRUPTION\n",
    "(see if it must be done during the process or it can be done as follows after all)\n",
    "\n",
    "HOW CORRUPTUION CODE SHOULD BE CALLED\n",
    "\n",
    "```\n",
    "for videoclip:\n",
    "    corruptor = Corruptor(..., ...)\n",
    "    normal_sequence = list()\n",
    "    corrupted_sequence = list()\n",
    "\n",
    "    for frame in clip:\n",
    "        graph = //graph initialization\n",
    "        corrupted_graph = corruptor.corrupt_graph(graph)\n",
    "        normal_sequence.append(graph)\n",
    "        corrupted_sequence.append(corrupted_graph)\n",
    "        // do we need object tracking etc.???\n",
    "```"
   ]
  }
 ],
 "metadata": {
  "kernelspec": {
   "display_name": "Python 3",
   "language": "python",
   "name": "python3"
  },
  "language_info": {
   "codemirror_mode": {
    "name": "ipython",
    "version": 3
   },
   "file_extension": ".py",
   "mimetype": "text/x-python",
   "name": "python",
   "nbconvert_exporter": "python",
   "pygments_lexer": "ipython3",
   "version": "3.9.6"
  },
  "orig_nbformat": 4,
  "vscode": {
   "interpreter": {
    "hash": "31f2aee4e71d21fbe5cf8b01ff0e069b9275f58929596ceb00d14d90e3e16cd6"
   }
  }
 },
 "nbformat": 4,
 "nbformat_minor": 2
}
