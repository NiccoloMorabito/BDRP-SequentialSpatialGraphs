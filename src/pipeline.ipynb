{
 "cells": [
  {
   "cell_type": "code",
   "execution_count": 2,
   "metadata": {},
   "outputs": [],
   "source": [
    "import torch\n",
    "import torch.nn as nn\n",
    "from torch.utils.data import Dataset, DataLoader\n",
    "import time\n",
    "import argparse\n",
    "import networkx as nx\n",
    "import os\n",
    "import pickle\n",
    "\n",
    "import warnings\n",
    "warnings.filterwarnings(\"ignore\")\n",
    "\n",
    "from common_utils.stg_utils import Node, Edge, load_video_params, load_dataset_params\n",
    "from common_utils.process import graph_to_feature_vector, adj_to_normalized_tensor\n",
    "from anomaly_generation.graph_corruption import Corruptor\n",
    "from embedding_training.transformer_classifier import MyNet\n",
    "\n",
    "VIDEOS_FOLDER = \"../videos/\"\n",
    "GRAPH_FOLDER = \"../graphs/\"\n",
    "\n",
    "TRAINING_GRAPH_FOLDER = \"../data/training_graphs/\"\n",
    "VIDEO_PARAMS_FOLDER = \"../data/video_parameters/\"\n",
    "\n",
    "TRAINING_PICKLE = \"../data/train_dataset.pt\""
   ]
  },
  {
   "cell_type": "code",
   "execution_count": 21,
   "metadata": {},
   "outputs": [],
   "source": [
    "ANOMALY_LABEL = 1.\n",
    "NORMAL_LABEL = 0.\n",
    "NUM_NODE_FEATURES = 85 #TODO see if you can dynamically infer it\n",
    "FRAMES_PER_VIDEOCLIP = 500 # about 15 seconds per clip\n",
    "BATCH_SIZE = 1 #TODO batching problems, not working with > 1\n",
    "\n",
    "DEVICE = torch.device(\"cuda\" if torch.cuda.is_available() else \"cpu\")"
   ]
  },
  {
   "cell_type": "code",
   "execution_count": 4,
   "metadata": {},
   "outputs": [],
   "source": [
    "class GraphDataset(Dataset):\n",
    "    def __init__(self, training_folder: str, videoparams_folder: str, frames_per_videoclip: int = None):\n",
    "        self.frames_per_videoclip = frames_per_videoclip #to cut the video in videoclips\n",
    "        self.__load_data(training_folder, videoparams_folder)\n",
    "    \n",
    "    #TODO merge two methods for loading data (__load_data and __load_data_jasmine)\n",
    "    def __load_data(self, training_folder: str, videoparams_folder: str): \n",
    "        # TODO code for reading the graphs saved by Jasmine (make this function more readable?)\n",
    "\n",
    "        self.tensored_videoclips = list()\n",
    "        self.labels = list()\n",
    "\n",
    "        for dataset_path in [file for file in os.listdir(training_folder)]:\n",
    "            print(dataset_path)\n",
    "            with open(os.path.join(training_folder, dataset_path), 'rb') as f:\n",
    "                try:\n",
    "                    dataset = pickle.load(f)\n",
    "                except:\n",
    "                    print(f\"File {dataset_path} skipped\")\n",
    "                    continue\n",
    "            \n",
    "            dataset_name = dataset_path.split(\"_\")[0]\n",
    "            \n",
    "            videoparams_path = os.path.join(videoparams_folder, dataset_name + \"_video_params.pickle\")\n",
    "            video2params = load_dataset_params(videoparams_path)\n",
    "            \n",
    "            for videoname, graphs in dataset.items():\n",
    "                video_width, video_height = video2params[videoname][\"width\"], video2params[videoname][\"height\"]\n",
    "\n",
    "                # divide the video in videoclips if specified (many videoclips per videoname), otherwise one video per videoname\n",
    "                if self.frames_per_videoclip and len(graphs) > self.frames_per_videoclip:\n",
    "                    graph_seqs = [graphs[x:x+self.frames_per_videoclip] for x in range(0, len(graphs), self.frames_per_videoclip)]\n",
    "                else:\n",
    "                    graph_seqs = [graphs]\n",
    "                \n",
    "                # each videoclip in pytorch\n",
    "                for graph_seq in graph_seqs:                \n",
    "                    self.__process_and_corrupt_video_clip(graph_seq, video_width, video_height)\n",
    "\n",
    "    def __process_and_corrupt_video_clip(self, graph_seq, width, height):\n",
    "        #TODO currently, a starting empty token is added to each sequence\n",
    "\n",
    "        # NORMAL GRAPHS FOR CURRENT VIDEO\n",
    "        features_and_adjs = [self.__get_empty_token()] + [self.__tensorize(graph) for graph in graph_seq]\n",
    "        # padding\n",
    "        while len(features_and_adjs) != self.frames_per_videoclip + 1: # +1 because of the starting token\n",
    "            features_and_adjs.append(self.__get_empty_token())\n",
    "\n",
    "        self.tensored_videoclips.append(features_and_adjs)\n",
    "        self.labels.append(torch.tensor(NORMAL_LABEL))\n",
    "        \n",
    "        # CORRUPTED GRAPHS FOR CURRENT VIDEO\n",
    "        #TODO so far, is_stg must be true because only the distance is implemented on the edge as 'weight'\n",
    "        corruptor = Corruptor(frame_width=width, frame_height=height)\n",
    "        corrupted_graph_seq = [corruptor.corrupt_graph(graph) for graph in graph_seq]\n",
    "\n",
    "        corr_features_and_adjs = [self.__get_empty_token()] + [self.__tensorize(graph) for graph in corrupted_graph_seq]\n",
    "        # padding\n",
    "        while len(corr_features_and_adjs) != self.frames_per_videoclip + 1: # +1 because of the starting token\n",
    "            corr_features_and_adjs.append(self.__get_empty_token())\n",
    "\n",
    "        self.tensored_videoclips.append(corr_features_and_adjs)\n",
    "        self.labels.append(torch.tensor(ANOMALY_LABEL))\n",
    "                \n",
    "    def __tensorize(self, graph):\n",
    "        if len(graph.nodes)==0:\n",
    "            return self.__get_empty_token()\n",
    "        features = graph_to_feature_vector(graph)\n",
    "        adj = adj_to_normalized_tensor(nx.adjacency_matrix(graph))\n",
    "        return features, adj\n",
    "    \n",
    "    def __get_empty_token(self):\n",
    "        num_nodes = 20 #TODO this number in normal/abnormal graphs change everytime, see if defining a constant one is fine\n",
    "        empty_features = torch.zeros(num_nodes, NUM_NODE_FEATURES)\n",
    "        empty_adj = torch.zeros(num_nodes, num_nodes)\n",
    "        return empty_features, empty_adj\n",
    "\n",
    "    def __len__(self):\n",
    "        return len(self.tensored_videoclips)\n",
    "\n",
    "    def __getitem__(self, idx):\n",
    "        # returning features, adjacency for each frame in the videoclip and the videoclip label\n",
    "        return self.tensored_videoclips[idx], self.labels[idx]\n",
    "\n"
   ]
  },
  {
   "cell_type": "code",
   "execution_count": null,
   "metadata": {},
   "outputs": [],
   "source": [
    "train_set = GraphDataset(TRAINING_GRAPH_FOLDER, VIDEO_PARAMS_FOLDER, frames_per_videoclip=FRAMES_PER_VIDEOCLIP)\n",
    "torch.save(train_set, TRAINING_PICKLE)\n",
    "#train_set = GraphDataset(?????)\n",
    "print(f\"Number of clips: {len(train_set)}\")\n",
    "\n",
    "train_dataloader = DataLoader(train_set, batch_size=BATCH_SIZE, shuffle=False)\n",
    "#test_dataloader = DataLoader(test_data, batch_size=BATCH_SIZE, shuffle=False)"
   ]
  },
  {
   "cell_type": "code",
   "execution_count": 5,
   "metadata": {},
   "outputs": [
    {
     "name": "stdout",
     "output_type": "stream",
     "text": [
      "Number of clips: 1202\n"
     ]
    }
   ],
   "source": [
    "train_set = torch.load(TRAINING_PICKLE)\n",
    "print(f\"Number of clips: {len(train_set)}\")"
   ]
  },
  {
   "cell_type": "code",
   "execution_count": 28,
   "metadata": {},
   "outputs": [
    {
     "data": {
      "text/plain": [
       "'\\nfor batch in iter(train_dataloader):\\n    seq, label = batch #len(seq) = FRAMES_PER_VIDEOCLIP + 1\\n    #print(label.shape)\\n    features, adj = seq[0]\\n    #print(features.shape)\\n    #print(adj.shape)\\n    #break\\n\\ntorch.Size([2])\\ntorch.Size([2, 20, 85])\\ntorch.Size([2, 20, 20])\\n'"
      ]
     },
     "execution_count": 28,
     "metadata": {},
     "output_type": "execute_result"
    }
   ],
   "source": [
    "def collate_fn_multi(batch):\n",
    "    seq_features_and_adjs = [[(features.to(DEVICE), adj.to(DEVICE)) for features, adj in item[0]] for item in batch]\n",
    "    label = [item[1].to(DEVICE) for item in batch]\n",
    "    #seq_features_and_adjs = [item[0] for item in batch]\n",
    "    #label = [item[1] for item in batch]\n",
    "    return [seq_features_and_adjs, label]\n",
    "\n",
    "\n",
    "train_dataloader = DataLoader(train_set, batch_size=BATCH_SIZE, shuffle=True)#, collate_fn=collate_fn) #TODO fix batching problem\n",
    "# this collate function works but the problem is when I need to encode one frame at a time (How to do that?)\n",
    "\n",
    "'''\n",
    "for batch in iter(train_dataloader):\n",
    "    seq, label = batch #len(seq) = FRAMES_PER_VIDEOCLIP + 1\n",
    "    #print(label.shape)\n",
    "    features, adj = seq[0]\n",
    "    #print(features.shape)\n",
    "    #print(adj.shape)\n",
    "    #break\n",
    "\n",
    "torch.Size([2])\n",
    "torch.Size([2, 20, 85])\n",
    "torch.Size([2, 20, 20])\n",
    "'''"
   ]
  },
  {
   "cell_type": "code",
   "execution_count": 53,
   "metadata": {},
   "outputs": [
    {
     "name": "stdout",
     "output_type": "stream",
     "text": [
      "starting training\n",
      "epoch=0 - epoch_loss=918.3763313889503, epoch accuracy: 0.5024958252906799\n",
      "epoch=1 - epoch_loss=846.5465056747198, epoch accuracy: 0.5174708962440491\n",
      "epoch=2 - epoch_loss=786.5813430249691, epoch accuracy: 0.559900164604187\n",
      "epoch=3 - epoch_loss=708.4190086275339, epoch accuracy: 0.6439267992973328\n",
      "epoch=4 - epoch_loss=611.618703328073, epoch accuracy: 0.7138103246688843\n",
      "epoch=5 - epoch_loss=414.3290413506329, epoch accuracy: 0.9193011522293091\n"
     ]
    }
   ],
   "source": [
    "''' TRAINING PART [WIP]'''\n",
    "# source (TODO delete) https://n8henrie.com/2021/08/writing-a-transformer-classifier-in-pytorch/\n",
    "\n",
    "\n",
    "epochs = 10\n",
    "model = MyNet(\n",
    "    features_size=NUM_NODE_FEATURES,\n",
    "    embedding_size=8, #TODO decide a value for embedding vector (MUST BE EVEN and dividible by nhead) a low number is probably enough since most of the features are one-hot encoded ones\n",
    "    max_length=FRAMES_PER_VIDEOCLIP + 1 #TODO because of the starting token\n",
    ").to(DEVICE)\n",
    "\n",
    "criterion = nn.BCELoss()\n",
    "lr = 1e-4\n",
    "optimizer = torch.optim.Adam(\n",
    "    (p for p in model.parameters() if p.requires_grad), lr=lr\n",
    ")\n",
    "torch.manual_seed(0)\n",
    "model.train()\n",
    "\n",
    "print(\"starting training\")\n",
    "for epoch in range(epochs):\n",
    "    epoch_loss = 0\n",
    "    epoch_correct = 0\n",
    "    epoch_count = 0\n",
    "    for batch in iter(train_dataloader):\n",
    "        seq_features_and_adjs, label = batch #len(seq) = FRAMES_PER_VIDEOCLIP + 1 (if no batches)\n",
    "        seq_features_and_adjs = [(features.to(DEVICE), adj.to(DEVICE)) for features, adj in seq_features_and_adjs]\n",
    "        label = label.to(DEVICE)\n",
    "\n",
    "        prediction = model.forward(seq_features_and_adjs)\n",
    "\n",
    "        label = label.unsqueeze(1) # or prediction = prediction.squeeze(1)\n",
    "        loss = criterion(prediction, label)\n",
    "        label = label.squeeze(1)\n",
    "\n",
    "        prediction = torch.round(prediction) #0 or 1 \n",
    "        correct = (prediction == label).sum()\n",
    "    \n",
    "        '''\n",
    "        y_pred_tag = torch.round(torch.sigmoid(y_pred))\n",
    "\n",
    "        correct_results_sum = (y_pred_tag == y_test).sum().float()\n",
    "        acc = correct_results_sum/y_test.shape[0]\n",
    "        acc = torch.round(acc * 100)\n",
    "        '''\n",
    "\n",
    "        epoch_correct += correct\n",
    "        epoch_count += label.size(0)\n",
    "\n",
    "        epoch_loss += loss.item()\n",
    "\n",
    "        loss.backward()\n",
    "        torch.nn.utils.clip_grad_norm_(model.parameters(), 0.5) #TODO\n",
    "\n",
    "        optimizer.step()\n",
    "\n",
    "    print(f\"{epoch=} - {epoch_loss=}, epoch accuracy: {epoch_correct / epoch_count}\")\n",
    "    #print(f\"{test_epoch_loss=}, \"test epoch accuracy: {test_epoch_correct / test_epoch_count}\")"
   ]
  }
 ],
 "metadata": {
  "kernelspec": {
   "display_name": "Python 3",
   "language": "python",
   "name": "python3"
  },
  "language_info": {
   "codemirror_mode": {
    "name": "ipython",
    "version": 3
   },
   "file_extension": ".py",
   "mimetype": "text/x-python",
   "name": "python",
   "nbconvert_exporter": "python",
   "pygments_lexer": "ipython3",
   "version": "3.9.6"
  },
  "orig_nbformat": 4,
  "vscode": {
   "interpreter": {
    "hash": "31f2aee4e71d21fbe5cf8b01ff0e069b9275f58929596ceb00d14d90e3e16cd6"
   }
  }
 },
 "nbformat": 4,
 "nbformat_minor": 2
}
