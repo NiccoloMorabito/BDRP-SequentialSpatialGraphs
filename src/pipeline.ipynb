{
 "cells": [
  {
   "cell_type": "code",
   "execution_count": 7,
   "metadata": {},
   "outputs": [],
   "source": [
    "from st_graph_generation import detect_with_networkx\n",
    "from common_utils.stg_utils import get_video_params\n",
    "from common_utils.process import graph_to_feature_vector\n",
    "\n",
    "import torch\n",
    "import time\n",
    "import argparse\n",
    "from networkx import adjacency_matrix"
   ]
  },
  {
   "cell_type": "code",
   "execution_count": 4,
   "metadata": {},
   "outputs": [
    {
     "name": "stderr",
     "output_type": "stream",
     "text": [
      "YOLOR 🚀 2022-11-24 torch 1.12.1 CPU\n",
      "\n"
     ]
    },
    {
     "name": "stdout",
     "output_type": "stream",
     "text": [
      "Fusing layers... \n",
      "RepConv.fuse_repvgg_block\n",
      "RepConv.fuse_repvgg_block\n"
     ]
    },
    {
     "name": "stderr",
     "output_type": "stream",
     "text": [
      "Model Summary: 306 layers, 36905341 parameters, 6652669 gradients\n"
     ]
    },
    {
     "name": "stdout",
     "output_type": "stream",
     "text": [
      "RepConv.fuse_repvgg_block\n",
      "\n",
      "video 1/1 (1/132) half_street.mp4"
     ]
    },
    {
     "name": "stderr",
     "output_type": "stream",
     "text": [
      "/Users/niccolomorabito/Library/Python/3.9/lib/python/site-packages/torch/functional.py:478: UserWarning: torch.meshgrid: in an upcoming release, it will be required to pass the indexing argument. (Triggered internally at  /Users/runner/work/pytorch/pytorch/pytorch/aten/src/ATen/native/TensorShape.cpp:2895.)\n",
      "  return _VF.meshgrid(tensors, **kwargs)  # type: ignore[attr-defined]\n"
     ]
    },
    {
     "name": "stdout",
     "output_type": "stream",
     "text": [
      "video 1/1 (132/132) half_street.mp4Done. (55.281s)\n"
     ]
    },
    {
     "data": {
      "text/plain": [
       "{'half_street.mp4': [<networkx.classes.graph.Graph at 0x179d55490>,\n",
       "  <networkx.classes.graph.Graph at 0x1730317f0>,\n",
       "  <networkx.classes.graph.Graph at 0x1730313d0>,\n",
       "  <networkx.classes.graph.Graph at 0x179df8dc0>,\n",
       "  <networkx.classes.graph.Graph at 0x172f4db20>,\n",
       "  <networkx.classes.graph.Graph at 0x179be08b0>,\n",
       "  <networkx.classes.graph.Graph at 0x179d03370>,\n",
       "  <networkx.classes.graph.Graph at 0x179c6b190>,\n",
       "  <networkx.classes.graph.Graph at 0x179d3c8b0>,\n",
       "  <networkx.classes.graph.Graph at 0x1730313a0>,\n",
       "  <networkx.classes.graph.Graph at 0x179c71190>,\n",
       "  <networkx.classes.graph.Graph at 0x179cc05b0>,\n",
       "  <networkx.classes.graph.Graph at 0x172f08d90>,\n",
       "  <networkx.classes.graph.Graph at 0x172f229d0>,\n",
       "  <networkx.classes.graph.Graph at 0x179d9ec40>,\n",
       "  <networkx.classes.graph.Graph at 0x172f08f40>,\n",
       "  <networkx.classes.graph.Graph at 0x179cdc9a0>,\n",
       "  <networkx.classes.graph.Graph at 0x179ce5730>,\n",
       "  <networkx.classes.graph.Graph at 0x172f08850>,\n",
       "  <networkx.classes.graph.Graph at 0x28e979280>,\n",
       "  <networkx.classes.graph.Graph at 0x28e979790>,\n",
       "  <networkx.classes.graph.Graph at 0x28e979cd0>,\n",
       "  <networkx.classes.graph.Graph at 0x179cdcbb0>,\n",
       "  <networkx.classes.graph.Graph at 0x28e9bd640>,\n",
       "  <networkx.classes.graph.Graph at 0x28e9bdaf0>,\n",
       "  <networkx.classes.graph.Graph at 0x179d55d00>,\n",
       "  <networkx.classes.graph.Graph at 0x173031f70>,\n",
       "  <networkx.classes.graph.Graph at 0x28ea078b0>,\n",
       "  <networkx.classes.graph.Graph at 0x28ea07df0>,\n",
       "  <networkx.classes.graph.Graph at 0x28e979d60>,\n",
       "  <networkx.classes.graph.Graph at 0x28ea457c0>,\n",
       "  <networkx.classes.graph.Graph at 0x28ea45ca0>,\n",
       "  <networkx.classes.graph.Graph at 0x28ea891c0>,\n",
       "  <networkx.classes.graph.Graph at 0x28ea896d0>,\n",
       "  <networkx.classes.graph.Graph at 0x28ea89b80>,\n",
       "  <networkx.classes.graph.Graph at 0x179d7b2b0>,\n",
       "  <networkx.classes.graph.Graph at 0x28ead9490>,\n",
       "  <networkx.classes.graph.Graph at 0x179cdc970>,\n",
       "  <networkx.classes.graph.Graph at 0x28ea89250>,\n",
       "  <networkx.classes.graph.Graph at 0x172f30fd0>,\n",
       "  <networkx.classes.graph.Graph at 0x28ea07940>,\n",
       "  <networkx.classes.graph.Graph at 0x28eb09a60>,\n",
       "  <networkx.classes.graph.Graph at 0x172fc1070>,\n",
       "  <networkx.classes.graph.Graph at 0x28eb50310>,\n",
       "  <networkx.classes.graph.Graph at 0x28eb507c0>,\n",
       "  <networkx.classes.graph.Graph at 0x172dbe430>,\n",
       "  <networkx.classes.graph.Graph at 0x28eb881f0>,\n",
       "  <networkx.classes.graph.Graph at 0x28e979820>,\n",
       "  <networkx.classes.graph.Graph at 0x28eb88a90>,\n",
       "  <networkx.classes.graph.Graph at 0x28eb88f40>,\n",
       "  <networkx.classes.graph.Graph at 0x28eb09580>,\n",
       "  <networkx.classes.graph.Graph at 0x28eb50c40>,\n",
       "  <networkx.classes.graph.Graph at 0x28eb50d00>,\n",
       "  <networkx.classes.graph.Graph at 0x28ed392b0>,\n",
       "  <networkx.classes.graph.Graph at 0x28ed397c0>,\n",
       "  <networkx.classes.graph.Graph at 0x28eb50cd0>,\n",
       "  <networkx.classes.graph.Graph at 0x28ed7c250>,\n",
       "  <networkx.classes.graph.Graph at 0x28ed7c700>,\n",
       "  <networkx.classes.graph.Graph at 0x28ed7cb80>,\n",
       "  <networkx.classes.graph.Graph at 0x28ea89fd0>,\n",
       "  <networkx.classes.graph.Graph at 0x28ea89c10>,\n",
       "  <networkx.classes.graph.Graph at 0x173031f40>,\n",
       "  <networkx.classes.graph.Graph at 0x173031ee0>,\n",
       "  <networkx.classes.graph.Graph at 0x28ee070a0>,\n",
       "  <networkx.classes.graph.Graph at 0x179d55e80>,\n",
       "  <networkx.classes.graph.Graph at 0x28ed009a0>,\n",
       "  <networkx.classes.graph.Graph at 0x28edc9520>,\n",
       "  <networkx.classes.graph.Graph at 0x28ee38160>,\n",
       "  <networkx.classes.graph.Graph at 0x28ee385b0>,\n",
       "  <networkx.classes.graph.Graph at 0x28ee38a60>,\n",
       "  <networkx.classes.graph.Graph at 0x28ee38f70>,\n",
       "  <networkx.classes.graph.Graph at 0x28ee82400>,\n",
       "  <networkx.classes.graph.Graph at 0x28ee828e0>,\n",
       "  <networkx.classes.graph.Graph at 0x28ee82d90>,\n",
       "  <networkx.classes.graph.Graph at 0x28eebb280>,\n",
       "  <networkx.classes.graph.Graph at 0x173031fd0>,\n",
       "  <networkx.classes.graph.Graph at 0x28eebba60>,\n",
       "  <networkx.classes.graph.Graph at 0x28ee82490>,\n",
       "  <networkx.classes.graph.Graph at 0x28ef01370>,\n",
       "  <networkx.classes.graph.Graph at 0x28ef017f0>,\n",
       "  <networkx.classes.graph.Graph at 0x28ef01c70>,\n",
       "  <networkx.classes.graph.Graph at 0x28ef3e190>,\n",
       "  <networkx.classes.graph.Graph at 0x28edc9ca0>,\n",
       "  <networkx.classes.graph.Graph at 0x28ef3ea30>,\n",
       "  <networkx.classes.graph.Graph at 0x28ef3ef10>,\n",
       "  <networkx.classes.graph.Graph at 0x28ef85400>,\n",
       "  <networkx.classes.graph.Graph at 0x28ef85880>,\n",
       "  <networkx.classes.graph.Graph at 0x28ef85d90>,\n",
       "  <networkx.classes.graph.Graph at 0x28efbf250>,\n",
       "  <networkx.classes.graph.Graph at 0x28efbf6a0>,\n",
       "  <networkx.classes.graph.Graph at 0x28ef3eac0>,\n",
       "  <networkx.classes.graph.Graph at 0x28efbff10>,\n",
       "  <networkx.classes.graph.Graph at 0x28ef85910>,\n",
       "  <networkx.classes.graph.Graph at 0x28ee38af0>,\n",
       "  <networkx.classes.graph.Graph at 0x28f005c40>,\n",
       "  <networkx.classes.graph.Graph at 0x28f041130>,\n",
       "  <networkx.classes.graph.Graph at 0x28f041580>,\n",
       "  <networkx.classes.graph.Graph at 0x28f041a00>,\n",
       "  <networkx.classes.graph.Graph at 0x28f041eb0>,\n",
       "  <networkx.classes.graph.Graph at 0x28ee07c10>,\n",
       "  <networkx.classes.graph.Graph at 0x28f005cd0>,\n",
       "  <networkx.classes.graph.Graph at 0x28f083bb0>,\n",
       "  <networkx.classes.graph.Graph at 0x28ef85850>,\n",
       "  <networkx.classes.graph.Graph at 0x28f0c1340>,\n",
       "  <networkx.classes.graph.Graph at 0x28f041a90>,\n",
       "  <networkx.classes.graph.Graph at 0x173031e80>,\n",
       "  <networkx.classes.graph.Graph at 0x28f0c1e50>,\n",
       "  <networkx.classes.graph.Graph at 0x28f0f8280>,\n",
       "  <networkx.classes.graph.Graph at 0x28f0f8670>,\n",
       "  <networkx.classes.graph.Graph at 0x28f0f8a60>,\n",
       "  <networkx.classes.graph.Graph at 0x28ed39d90>,\n",
       "  <networkx.classes.graph.Graph at 0x28ef162e0>,\n",
       "  <networkx.classes.graph.Graph at 0x28ef16730>,\n",
       "  <networkx.classes.graph.Graph at 0x28ef16b20>,\n",
       "  <networkx.classes.graph.Graph at 0x28ef16f40>,\n",
       "  <networkx.classes.graph.Graph at 0x28f167400>,\n",
       "  <networkx.classes.graph.Graph at 0x172fd0040>,\n",
       "  <networkx.classes.graph.Graph at 0x28f167bb0>,\n",
       "  <networkx.classes.graph.Graph at 0x28f167fa0>,\n",
       "  <networkx.classes.graph.Graph at 0x28f1a5430>,\n",
       "  <networkx.classes.graph.Graph at 0x28ef16370>,\n",
       "  <networkx.classes.graph.Graph at 0x28f1a5c10>,\n",
       "  <networkx.classes.graph.Graph at 0x28f1d50d0>,\n",
       "  <networkx.classes.graph.Graph at 0x28f1d54f0>,\n",
       "  <networkx.classes.graph.Graph at 0x28f1d5910>,\n",
       "  <networkx.classes.graph.Graph at 0x28f1d5d30>,\n",
       "  <networkx.classes.graph.Graph at 0x28f2131c0>,\n",
       "  <networkx.classes.graph.Graph at 0x28f0f8ee0>,\n",
       "  <networkx.classes.graph.Graph at 0x28f213a90>,\n",
       "  <networkx.classes.graph.Graph at 0x28f213ee0>,\n",
       "  <networkx.classes.graph.Graph at 0x28f2523a0>,\n",
       "  <networkx.classes.graph.Graph at 0x28f252910>]}"
      ]
     },
     "execution_count": 4,
     "metadata": {},
     "output_type": "execute_result"
    }
   ],
   "source": [
    "with torch.no_grad():\n",
    "        #t = time.time()\n",
    "        videoname_to_graph_seq = detect_with_networkx.detect(source=\"../videos/\")\n",
    "        #print(f'Done. ({time.time() - t:.3f}s)')\n",
    "\n",
    "videoname_to_graph_seq"
   ]
  },
  {
   "cell_type": "code",
   "execution_count": 8,
   "metadata": {},
   "outputs": [
    {
     "name": "stdout",
     "output_type": "stream",
     "text": [
      "132\n",
      "(22, 85)\n"
     ]
    }
   ],
   "source": [
    "for videoname in videoname_to_graph_seq:\n",
    "    print(len(videoname_to_graph_seq[videoname]))\n",
    "    for graph in videoname_to_graph_seq[videoname]:\n",
    "        #print(type(adjacency_matrix(graph)))\n",
    "        break\n",
    "a = graph_to_feature_vector(graph)\n",
    "print(a.shape)"
   ]
  },
  {
   "attachments": {},
   "cell_type": "markdown",
   "metadata": {},
   "source": [
    "# CORRUPTION\n",
    "(see if it must be done during the process or it can be done as follows after all)\n",
    "\n",
    "HOW CORRUPTUION CODE SHOULD BE CALLED\n",
    "\n",
    "```\n",
    "for videoclip:\n",
    "    corruptor = Corruptor(..., ...)\n",
    "    normal_sequence = list()\n",
    "    corrupted_sequence = list()\n",
    "\n",
    "    for frame in clip:\n",
    "        graph = //graph initialization\n",
    "        corrupted_graph = corruptor.corrupt_graph(graph)\n",
    "        normal_sequence.append(graph)\n",
    "        corrupted_sequence.append(corrupted_graph)\n",
    "        // do we need object tracking etc.???\n",
    "```"
   ]
  },
  {
   "cell_type": "code",
   "execution_count": null,
   "metadata": {},
   "outputs": [],
   "source": [
    "from anomaly_generation.graph_corruption import Corruptor\n",
    "\n",
    "videoname_to_corr_graph_seq = dict()\n",
    "for videoname in videoname_to_graph_seq:\n",
    "    video_params = get_video_params(f'../videos/{videoname}')\n",
    "    w, h = video_params[\"width\"], video_params[\"height\"]\n",
    "    #TODO so far, is_stg must be true because only the distance is implemented on the edge as 'weight'\n",
    "    corruptor = Corruptor(frame_width=w, frame_height=h, is_stg=True)\n",
    "\n",
    "    videoname_to_corr_graph_seq[videoname] = list()\n",
    "    \n",
    "    for graph in videoname_to_graph_seq[videoname]:\n",
    "        corrupted_graph = corruptor.corrupt_graph(graph, verbose=False)\n",
    "        videoname_to_corr_graph_seq[videoname].append(corrupted_graph)\n",
    "\n"
   ]
  },
  {
   "cell_type": "code",
   "execution_count": null,
   "metadata": {},
   "outputs": [],
   "source": [
    "\n",
    "for videoname in videoname_to_graph_seq:\n",
    "    graphs = videoname_to_graph_seq[videoname]\n",
    "    corr_graphs = videoname_to_corr_graph_seq[videoname]\n",
    "    break\n",
    "\n",
    "graphs"
   ]
  }
 ],
 "metadata": {
  "kernelspec": {
   "display_name": "Python 3",
   "language": "python",
   "name": "python3"
  },
  "language_info": {
   "codemirror_mode": {
    "name": "ipython",
    "version": 3
   },
   "file_extension": ".py",
   "mimetype": "text/x-python",
   "name": "python",
   "nbconvert_exporter": "python",
   "pygments_lexer": "ipython3",
   "version": "3.9.6"
  },
  "orig_nbformat": 4,
  "vscode": {
   "interpreter": {
    "hash": "31f2aee4e71d21fbe5cf8b01ff0e069b9275f58929596ceb00d14d90e3e16cd6"
   }
  }
 },
 "nbformat": 4,
 "nbformat_minor": 2
}
