{
 "cells": [
  {
   "cell_type": "code",
   "execution_count": 1,
   "metadata": {},
   "outputs": [],
   "source": [
    "import torch\n",
    "import torch.nn as nn\n",
    "import time\n",
    "import argparse\n",
    "import networkx as nx\n",
    "import os\n",
    "\n",
    "from st_graph_generation import detect_with_networkx\n",
    "from common_utils.stg_utils import load_video_params\n",
    "from common_utils.process import graph_to_feature_vector, adj_to_normalized_tensor\n",
    "from embedding_training.transformer_classifier import Net\n",
    "from anomaly_generation.graph_corruption import Corruptor\n",
    "\n",
    "VIDEOS_FOLDER = \"../videos/\"\n",
    "GRAPH_FOLDER = \"../graphs/\""
   ]
  },
  {
   "cell_type": "code",
   "execution_count": 2,
   "metadata": {},
   "outputs": [
    {
     "name": "stderr",
     "output_type": "stream",
     "text": [
      "YOLOR 🚀 2022-11-24 torch 1.12.1 CPU\n",
      "\n"
     ]
    },
    {
     "name": "stdout",
     "output_type": "stream",
     "text": [
      "Fusing layers... \n",
      "RepConv.fuse_repvgg_block\n",
      "RepConv.fuse_repvgg_block\n",
      "RepConv.fuse_repvgg_block\n"
     ]
    },
    {
     "name": "stderr",
     "output_type": "stream",
     "text": [
      "Model Summary: 306 layers, 36905341 parameters, 6652669 gradients\n"
     ]
    },
    {
     "name": "stdout",
     "output_type": "stream",
     "text": [
      "\n",
      "video 1/4 (14835/64797) adoc_part1.avi"
     ]
    },
    {
     "name": "stderr",
     "output_type": "stream",
     "text": [
      "/Users/niccolomorabito/Library/Python/3.9/lib/python/site-packages/torch/functional.py:478: UserWarning: torch.meshgrid: in an upcoming release, it will be required to pass the indexing argument. (Triggered internally at  /Users/runner/work/pytorch/pytorch/pytorch/aten/src/ATen/native/TensorShape.cpp:2895.)\n",
      "  return _VF.meshgrid(tensors, **kwargs)  # type: ignore[attr-defined]\n"
     ]
    },
    {
     "name": "stdout",
     "output_type": "stream",
     "text": [
      "video 1/4 (15002/64797) adoc_part1.avi"
     ]
    },
    {
     "ename": "IndexError",
     "evalue": "index 8 is out of bounds for axis 1 with size 6",
     "output_type": "error",
     "traceback": [
      "\u001b[0;31m---------------------------------------------------------------------------\u001b[0m",
      "\u001b[0;31mIndexError\u001b[0m                                Traceback (most recent call last)",
      "Cell \u001b[0;32mIn [2], line 3\u001b[0m\n\u001b[1;32m      1\u001b[0m \u001b[39m# to run only once to convert all the videos in VIDEOS_FOLDER into graphs\u001b[39;00m\n\u001b[1;32m      2\u001b[0m \u001b[39mwith\u001b[39;00m torch\u001b[39m.\u001b[39mno_grad():\n\u001b[0;32m----> 3\u001b[0m     videoname_to_graph_seq \u001b[39m=\u001b[39m detect_with_networkx\u001b[39m.\u001b[39;49mvideos_to_graphs(source\u001b[39m=\u001b[39;49mVIDEOS_FOLDER, dest\u001b[39m=\u001b[39;49mGRAPH_FOLDER, save_graphs\u001b[39m=\u001b[39;49m\u001b[39mTrue\u001b[39;49;00m)\n",
      "File \u001b[0;32m~/Library/CloudStorage/GoogleDrive-morabito.1808746@studenti.uniroma1.it/My Drive/BDMA/Semester3 CS/Big Data Research Project/Big-Data-Research-Project/src/st_graph_generation/detect_with_networkx.py:272\u001b[0m, in \u001b[0;36mvideos_to_graphs\u001b[0;34m(source, dest, save_graphs, weights, img_size, trace, device, augment, conf_thres, iou_thres, classes, agnostic_nms, run_tracking, unique_track_color, view_img, show_fps, show_track)\u001b[0m\n\u001b[1;32m    270\u001b[0m \u001b[39mif\u001b[39;00m run_tracking:\n\u001b[1;32m    271\u001b[0m     bbox_xyxy \u001b[39m=\u001b[39m tracked_dets[:,:\u001b[39m4\u001b[39m]\n\u001b[0;32m--> 272\u001b[0m     identities \u001b[39m=\u001b[39m tracked_dets[:, \u001b[39m8\u001b[39;49m]\n\u001b[1;32m    273\u001b[0m     categories \u001b[39m=\u001b[39m tracked_dets[:, \u001b[39m4\u001b[39m]\n\u001b[1;32m    274\u001b[0m     confidences \u001b[39m=\u001b[39m tracked_dets[:, \u001b[39m5\u001b[39m]\n",
      "\u001b[0;31mIndexError\u001b[0m: index 8 is out of bounds for axis 1 with size 6"
     ]
    }
   ],
   "source": [
    "# to run only once to convert all the videos in VIDEOS_FOLDER into graphs\n",
    "with torch.no_grad():\n",
    "    videoname_to_graph_seq = detect_with_networkx.videos_to_graphs(source=VIDEOS_FOLDER, dest=GRAPH_FOLDER, save_graphs=True)"
   ]
  },
  {
   "cell_type": "code",
   "execution_count": null,
   "metadata": {},
   "outputs": [
    {
     "data": {
      "text/plain": [
       "'\\nfor videoname, graph_seq in videoname_to_graph_seq.items():\\n    print(f\"Saving graphs of {videoname} ({len(videoname_to_graph_seq[videoname])} frames)\")\\n    videoname_folder = os.path.join(GRAPH_FOLDER, videoname)\\n    os.mkdir(videoname_folder)\\n    for i, graph in enumerate(graph_seq):\\n        graph_path = os.path.join(videoname_folder, f\"{i}.gpickle\")\\n        nx.write_gpickle(graph,graph_path)\\n'"
      ]
     },
     "execution_count": 4,
     "metadata": {},
     "output_type": "execute_result"
    }
   ],
   "source": [
    "'''\n",
    "for videoname, graph_seq in videoname_to_graph_seq.items():\n",
    "    print(f\"Saving graphs of {videoname} ({len(videoname_to_graph_seq[videoname])} frames)\")\n",
    "    videoname_folder = os.path.join(GRAPH_FOLDER, videoname)\n",
    "    os.mkdir(videoname_folder)\n",
    "    for i, graph in enumerate(graph_seq):\n",
    "        graph_path = os.path.join(videoname_folder, f\"{i}.gpickle\")\n",
    "        nx.write_gpickle(graph,graph_path)\n",
    "'''"
   ]
  },
  {
   "cell_type": "code",
   "execution_count": 2,
   "metadata": {},
   "outputs": [
    {
     "name": "stdout",
     "output_type": "stream",
     "text": [
      "../graphs/adoc_part1.avi\n",
      "15001\n",
      "15001\n"
     ]
    }
   ],
   "source": [
    "for videoname in os.listdir(GRAPH_FOLDER):\n",
    "    if videoname.startswith('.'):\n",
    "        continue\n",
    "    videoname_folder = os.path.join(GRAPH_FOLDER, videoname)\n",
    "    print(videoname_folder)\n",
    "    # if in the list comprehension is to get only files for frames\n",
    "    graph_paths = [os.path.join(videoname_folder, p) for p in os.listdir(videoname_folder) if p[0].isdigit()]\n",
    "    graph_seq = [nx.read_gpickle(graph_path) for graph_path in graph_paths]\n",
    "\n",
    "    # CORRUPTION\n",
    "    video_params = load_video_params(videoname_folder)\n",
    "    w, h = video_params[\"width\"], video_params[\"height\"]\n",
    "    #TODO so far, is_stg must be true because only the distance is implemented on the edge as 'weight'\n",
    "    corruptor = Corruptor(frame_width=w, frame_height=h, is_stg=True)\n",
    "\n",
    "    corrupted_graph_seq = [corruptor.corrupt_graph(graph) for graph in graph_seq]\n",
    "    \n",
    "print(len(graph_seq))\n",
    "print(len(corrupted_graph_seq))"
   ]
  },
  {
   "cell_type": "code",
   "execution_count": null,
   "metadata": {},
   "outputs": [
    {
     "name": "stderr",
     "output_type": "stream",
     "text": [
      "/var/folders/9c/3x13fm0x7034gf06x85_2t180000gn/T/ipykernel_40657/2767233667.py:1: FutureWarning: adjacency_matrix will return a scipy.sparse array instead of a matrix in Networkx 3.0.\n",
      "  adj = adjacency_matrix(graph)\n"
     ]
    },
    {
     "data": {
      "text/plain": [
       "torch.Size([1, 22, 22])"
      ]
     },
     "execution_count": 4,
     "metadata": {},
     "output_type": "execute_result"
    }
   ],
   "source": [
    "features = graph_to_feature_vector(graph)\n",
    "features.shape\n",
    "\n",
    "adj = nx.adjacency_matrix(graph)\n",
    "adj = adj_to_normalized_tensor(adj)\n",
    "adj.shape"
   ]
  },
  {
   "cell_type": "code",
   "execution_count": null,
   "metadata": {},
   "outputs": [
    {
     "name": "stdout",
     "output_type": "stream",
     "text": [
      "torch.Size([1, 22, 85])\n",
      "torch.Size([1, 22, 22])\n",
      "torch.Size([1, 22, 8])\n",
      "torch.Size([1, 8])\n",
      "beginning with transformer\n",
      "torch.Size([1, 1, 8])\n",
      "torch.Size([1, 1, 8])\n",
      "torch.Size([1, 1, 1])\n",
      "torch.Size([1, 1, 1])\n"
     ]
    },
    {
     "data": {
      "text/plain": [
       "tensor([[[0.43121]]], grad_fn=<SigmoidBackward0>)"
      ]
     },
     "execution_count": 7,
     "metadata": {},
     "output_type": "execute_result"
    }
   ],
   "source": [
    "\n",
    "model = Net(features_size=features.shape[2], embedding_size=8) #TODO decide a value for embedding vector (MUST BE EVEN) a low number is probably enough since most of the features are one-hot encoded ones\n",
    "model.forward(features, adj)"
   ]
  },
  {
   "cell_type": "code",
   "execution_count": null,
   "metadata": {},
   "outputs": [
    {
     "name": "stdout",
     "output_type": "stream",
     "text": [
      "starting\n",
      "epoch=0\n"
     ]
    },
    {
     "ename": "NameError",
     "evalue": "name 'train_iter' is not defined",
     "output_type": "error",
     "traceback": [
      "\u001b[0;31m---------------------------------------------------------------------------\u001b[0m",
      "\u001b[0;31mNameError\u001b[0m                                 Traceback (most recent call last)",
      "Cell \u001b[0;32mIn [6], line 24\u001b[0m\n\u001b[1;32m     22\u001b[0m epoch_correct \u001b[39m=\u001b[39m \u001b[39m0\u001b[39m\n\u001b[1;32m     23\u001b[0m epoch_count \u001b[39m=\u001b[39m \u001b[39m0\u001b[39m\n\u001b[0;32m---> 24\u001b[0m \u001b[39mfor\u001b[39;00m batch \u001b[39min\u001b[39;00m \u001b[39miter\u001b[39m(train_iter):\n\u001b[1;32m     25\u001b[0m     predictions \u001b[39m=\u001b[39m model(batch\u001b[39m.\u001b[39mtext\u001b[39m.\u001b[39mto(device))\n\u001b[1;32m     26\u001b[0m     labels \u001b[39m=\u001b[39m batch\u001b[39m.\u001b[39mlabel\u001b[39m.\u001b[39mto(device) \u001b[39m-\u001b[39m \u001b[39m1\u001b[39m\n",
      "\u001b[0;31mNameError\u001b[0m: name 'train_iter' is not defined"
     ]
    }
   ],
   "source": [
    "''' TRAINING PART [WIP]'''\n",
    "\n",
    "device = torch.device(\"cuda\" if torch.cuda.is_available() else \"cpu\")\n",
    "\n",
    "epochs = 50\n",
    "model = Net(\n",
    "    features_size=features.shape[2], # i.e. 85\n",
    "    embedding_size=8 #TODO decide a value for embedding vector (MUST BE EVEN and dividible by nhead) a low number is probably enough since most of the features are one-hot encoded ones\n",
    ").to(device)\n",
    "\n",
    "criterion = nn.CrossEntropyLoss()\n",
    "lr = 1e-4\n",
    "optimizer = torch.optim.Adam(\n",
    "    (p for p in model.parameters() if p.requires_grad), lr=lr\n",
    ")\n",
    "torch.manual_seed(0)\n",
    "\n",
    "print(\"starting\")\n",
    "for epoch in range(epochs):\n",
    "    print(f\"{epoch=}\")\n",
    "    epoch_loss = 0\n",
    "    epoch_correct = 0\n",
    "    epoch_count = 0\n",
    "    for batch in iter(train_iter):\n",
    "        predictions = model(batch.text.to(device)) #TODO change\n",
    "        labels = batch.label.to(device) - 1\n",
    "\n",
    "        loss = criterion(predictions, labels)\n",
    "\n",
    "        correct = predictions.argmax(axis=1) == labels\n",
    "        acc = correct.sum().item() / correct.size(0)\n",
    "\n",
    "        epoch_correct += correct.sum().item()\n",
    "        epoch_count += correct.size(0)\n",
    "\n",
    "        epoch_loss += loss.item()\n",
    "\n",
    "        loss.backward()\n",
    "        torch.nn.utils.clip_grad_norm_(model.parameters(), 0.5)\n",
    "\n",
    "        optimizer.step()\n",
    "\n",
    "    with torch.no_grad():\n",
    "        test_epoch_loss = 0\n",
    "        test_epoch_correct = 0\n",
    "        test_epoch_count = 0\n",
    "\n",
    "        for batch in iter(test_iter):\n",
    "            predictions = model(batch.text.to(device))\n",
    "            labels = batch.label.to(device) - 1\n",
    "            test_loss = criterion(predictions, labels)\n",
    "\n",
    "            correct = predictions.argmax(axis=1) == labels\n",
    "            acc = correct.sum().item() / correct.size(0)\n",
    "\n",
    "            test_epoch_correct += correct.sum().item()\n",
    "            test_epoch_count += correct.size(0)\n",
    "            test_epoch_loss += loss.item()\n",
    "\n",
    "    print(f\"{epoch_loss=}\")\n",
    "    print(f\"epoch accuracy: {epoch_correct / epoch_count}\")\n",
    "    print(f\"{test_epoch_loss=}\")\n",
    "    print(f\"test epoch accuracy: {test_epoch_correct / test_epoch_count}\")"
   ]
  },
  {
   "attachments": {},
   "cell_type": "markdown",
   "metadata": {},
   "source": [
    "# CORRUPTION\n",
    "(see if it must be done during the process or it can be done as follows after all)\n",
    "\n",
    "HOW CORRUPTUION CODE SHOULD BE CALLED\n",
    "\n",
    "```\n",
    "for videoclip:\n",
    "    corruptor = Corruptor(..., ...)\n",
    "    normal_sequence = list()\n",
    "    corrupted_sequence = list()\n",
    "\n",
    "    for frame in clip:\n",
    "        graph = //graph initialization\n",
    "        corrupted_graph = corruptor.corrupt_graph(graph)\n",
    "        normal_sequence.append(graph)\n",
    "        corrupted_sequence.append(corrupted_graph)\n",
    "        // do we need object tracking etc.???\n",
    "```"
   ]
  }
 ],
 "metadata": {
  "kernelspec": {
   "display_name": "Python 3",
   "language": "python",
   "name": "python3"
  },
  "language_info": {
   "codemirror_mode": {
    "name": "ipython",
    "version": 3
   },
   "file_extension": ".py",
   "mimetype": "text/x-python",
   "name": "python",
   "nbconvert_exporter": "python",
   "pygments_lexer": "ipython3",
   "version": "3.9.6"
  },
  "orig_nbformat": 4,
  "vscode": {
   "interpreter": {
    "hash": "31f2aee4e71d21fbe5cf8b01ff0e069b9275f58929596ceb00d14d90e3e16cd6"
   }
  }
 },
 "nbformat": 4,
 "nbformat_minor": 2
}
