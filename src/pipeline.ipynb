{
 "cells": [
  {
   "cell_type": "code",
   "execution_count": 1,
   "metadata": {},
   "outputs": [
    {
     "name": "stderr",
     "output_type": "stream",
     "text": [
      "/opt/homebrew/lib/python3.10/site-packages/tqdm/auto.py:22: TqdmWarning: IProgress not found. Please update jupyter and ipywidgets. See https://ipywidgets.readthedocs.io/en/stable/user_install.html\n",
      "  from .autonotebook import tqdm as notebook_tqdm\n"
     ]
    }
   ],
   "source": [
    "import torch\n",
    "import torch.nn as nn\n",
    "from torch.utils.data import Dataset, DataLoader\n",
    "import time\n",
    "import argparse\n",
    "import networkx as nx\n",
    "import os\n",
    "import pickle\n",
    "from typing import List, Tuple\n",
    "import pandas as pd\n",
    "import matplotlib.pyplot as plt\n",
    "\n",
    "import warnings\n",
    "warnings.filterwarnings(\"ignore\")\n",
    "\n",
    "from common_utils.stg_utils import Node, Edge, load_pickle\n",
    "from common_utils.process import graph_to_feature_vector, adj_to_normalized_tensor\n",
    "from anomaly_generation.graph_corruption import Corruptor\n",
    "from embedding_training.transformer_classifier import MyNet\n",
    "\n",
    "VIDEOS_FOLDER = \"../videos/\"\n",
    "GRAPH_FOLDER = \"../graphs/\"\n",
    "\n",
    "TRAINING_GRAPH_FOLDER = \"../data/training_graphs/\"\n",
    "VIDEO_PARAMS_FOLDER = \"../data/video_parameters/\"\n",
    "TESTING_GRAPH_FOLDER = \"../data/testing_graphs/\"\n",
    "LABELS_FOLDER = \"../data/testing_labels/\"\n",
    "\n",
    "TRAINING_PICKLE = \"../data/train_dataset_{}fpv.pt\""
   ]
  },
  {
   "cell_type": "code",
   "execution_count": 2,
   "metadata": {},
   "outputs": [
    {
     "data": {
      "text/plain": [
       "device(type='cpu')"
      ]
     },
     "execution_count": 2,
     "metadata": {},
     "output_type": "execute_result"
    }
   ],
   "source": [
    "ANOMALY_LABEL = 1.\n",
    "NORMAL_LABEL = 0.\n",
    "NUM_NODE_FEATURES = 85 #TODO see if you can dynamically infer it\n",
    "FRAMES_PER_VIDEOCLIP = 500 # about 15 seconds per clip\n",
    "BATCH_SIZE = 1 #TODO batching problems, not working with > 1\n",
    "\n",
    "DEVICE = torch.device(\"cuda\" if torch.cuda.is_available() else \"cpu\")\n",
    "torch.manual_seed(0)\n",
    "DEVICE"
   ]
  },
  {
   "cell_type": "code",
   "execution_count": 13,
   "metadata": {},
   "outputs": [],
   "source": [
    "class GraphDataset(Dataset):\n",
    "    def __init__(self, videos_folder: str, videoparams_folder: str = None, labels_folder: str = None, frames_per_videoclip: int = None):\n",
    "        assert (videoparams_folder is None) ^ (labels_folder is None), \\\n",
    "            \"You need to specify either the folder for videoparams (to corrupt graphs) for the training set \\\n",
    "                or for the labels for the testing set\"\n",
    "\n",
    "        self.frames_per_videoclip = frames_per_videoclip #to cut the video in videoclips\n",
    "        self.tensored_videoclips = list()\n",
    "        self.labels = list()\n",
    "\n",
    "        if videoparams_folder is not None:\n",
    "            self.__load_data_train(videos_folder, videoparams_folder)\n",
    "        else:\n",
    "            self.__load_data_test(videos_folder, labels_folder)\n",
    "\n",
    "    def __len__(self):\n",
    "        return len(self.tensored_videoclips)\n",
    "\n",
    "    def __getitem__(self, idx):\n",
    "        # returning features, adjacency for each frame in the videoclip and the videoclip label\n",
    "        return self.tensored_videoclips[idx], self.labels[idx]\n",
    "    \n",
    "    \n",
    "    def __load_data_train(self, training_folder: str, videoparams_folder: str) -> None: \n",
    "        for dataset_path in [file for file in os.listdir(training_folder)]:\n",
    "            with open(os.path.join(training_folder, dataset_path), 'rb') as f:\n",
    "                try:\n",
    "                    dataset = pickle.load(f)\n",
    "                except:\n",
    "                    print(f\"[Skipped] {dataset_path}\")\n",
    "                    continue\n",
    "            print(dataset_path)\n",
    "            \n",
    "            # video params\n",
    "            dataset_name = dataset_path.split(\"_\")[0]\n",
    "            videoparams_path = os.path.join(videoparams_folder, dataset_name + \"_video_params.pickle\")\n",
    "            video2params = load_pickle(videoparams_path)\n",
    "            \n",
    "            # for each video in the dataset\n",
    "            for videoname, graphs in dataset.items():\n",
    "                video_width, video_height = video2params[videoname][\"width\"], video2params[videoname][\"height\"]\n",
    "\n",
    "                # divide the video in videoclips if specified (many videoclips per videoname), otherwise one video per videoname\n",
    "                if self.frames_per_videoclip and len(graphs) > self.frames_per_videoclip:\n",
    "                    graph_seqs = [graphs[x:x+self.frames_per_videoclip] for x in range(0, len(graphs), self.frames_per_videoclip)]\n",
    "                else:\n",
    "                    graph_seqs = [graphs]\n",
    "                \n",
    "                # each videoclip in pytorch\n",
    "                for graph_seq in graph_seqs:                \n",
    "                    self.__process_and_corrupt_videoclip(graph_seq, video_width, video_height)\n",
    "    \n",
    "    def __process_and_corrupt_videoclip(self, graph_seq: List[nx.Graph], width: int, height: int) -> None:\n",
    "        # NORMAL GRAPHS FOR CURRENT VIDEO\n",
    "        features_and_adjs = self.__graph_seq_to_features_and_adjs(graph_seq)\n",
    "        self.tensored_videoclips.append(features_and_adjs)\n",
    "        self.labels.append(torch.tensor(NORMAL_LABEL))\n",
    "        \n",
    "        # CORRUPTED GRAPHS FOR CURRENT VIDEO\n",
    "        corruptor = Corruptor(frame_width=width, frame_height=height)\n",
    "        corrupted_graph_seq = [corruptor.corrupt_graph(graph) for graph in graph_seq]\n",
    "\n",
    "        corr_features_and_adjs = self.__graph_seq_to_features_and_adjs(corrupted_graph_seq)\n",
    "        self.tensored_videoclips.append(corr_features_and_adjs)\n",
    "        self.labels.append(torch.tensor(ANOMALY_LABEL))\n",
    "    \n",
    "    def __graph_seq_to_features_and_adjs(self, graph_seq: List[nx.Graph]) -> List[torch.Tensor]:\n",
    "        #TODO currently, a starting empty token is added to each sequence\n",
    "        features_and_adjs = [self.__get_empty_token()] + [self.__tensorize(graph) for graph in graph_seq]\n",
    "        # padding\n",
    "        while len(features_and_adjs) != self.frames_per_videoclip + 1: # +1 because of the starting token\n",
    "            features_and_adjs.append(self.__get_empty_token())\n",
    "        \n",
    "        return features_and_adjs\n",
    "                \n",
    "    def __tensorize(self, graph: nx.Graph): # -> tuple(torch.Tensor):\n",
    "        if len(graph.nodes)==0:\n",
    "            return self.__get_empty_token()\n",
    "        features = graph_to_feature_vector(graph)\n",
    "        adj = adj_to_normalized_tensor(nx.adjacency_matrix(graph))\n",
    "        return features, adj\n",
    "    \n",
    "    def __get_empty_token(self): # -> tuple(torch.Tensor):\n",
    "        num_nodes = 20 #TODO this number in normal/abnormal graphs change everytime, see if defining a constant one is fine (should I put 1?)\n",
    "        empty_features = torch.zeros(num_nodes, NUM_NODE_FEATURES)\n",
    "        empty_adj = torch.zeros(num_nodes, num_nodes)\n",
    "        return empty_features, empty_adj\n",
    "\n",
    "\n",
    "    def __load_data_test(self, test_folder: str, labels_folder: str):\n",
    "        for dataset_path in [file for file in os.listdir(test_folder)]:\n",
    "            with open(os.path.join(test_folder, dataset_path), 'rb') as f:\n",
    "                try:\n",
    "                    dataset = pickle.load(f)\n",
    "                except:\n",
    "                    print(f\"[Skipped] {dataset_path}\")\n",
    "                    continue\n",
    "            print(dataset_path)\n",
    "            \n",
    "            # labels\n",
    "            dataset_name = dataset_path.split(\"_\")[0]\n",
    "            labels_path = os.path.join(labels_folder, dataset_name + \"_testing_labels.pickle\")\n",
    "            videoname_to_labels = load_pickle(labels_path)\n",
    "            \n",
    "            # for each video in the dataset\n",
    "            for videoname, graphs in dataset.items():\n",
    "                frame_labels = videoname_to_labels[videoname]\n",
    "\n",
    "                # divide the video in videoclips if specified (many videoclips per videoname), otherwise one video per videoname\n",
    "                if self.frames_per_videoclip and len(graphs) > self.frames_per_videoclip:\n",
    "                    graph_seqs = [graphs[x:x+self.frames_per_videoclip] for x in range(0, len(graphs), self.frames_per_videoclip)]\n",
    "                    labels = [self.__frame_labels_to_videoclip_label(frame_labels[x:x+self.frames_per_videoclip]) \\\n",
    "                        for x in range(0, len(frame_labels), self.frames_per_videoclip)]\n",
    "                else:\n",
    "                    graph_seqs = [graphs]\n",
    "                    labels = [self.__frame_labels_to_videoclip_label(frame_labels)]\n",
    "                \n",
    "                # each videoclip in pytorch\n",
    "                for graph_seq, label in zip(graph_seqs, labels):                \n",
    "                    self.__process_videoclip(graph_seq, label)\n",
    "    \n",
    "    def __frame_labels_to_videoclip_label(self, frame_labels: List[int]) -> int:\n",
    "        ''' Here the rule on how to label a video as anomaly according to the frame labels'''\n",
    "        #TODO for the moment, if there is at least one anomalous frame, the whole videoclip is considered anomalous\n",
    "        if sum(frame_labels) > 0:\n",
    "            return ANOMALY_LABEL\n",
    "        return NORMAL_LABEL\n",
    "    \n",
    "    def __process_videoclip(self, graph_seq, label) -> None:\n",
    "        features_and_adjs = self.__graph_seq_to_features_and_adjs(graph_seq)\n",
    "        self.tensored_videoclips.append(features_and_adjs)\n",
    "        self.labels.append(torch.tensor(label))\n",
    "\n",
    "\n"
   ]
  },
  {
   "cell_type": "code",
   "execution_count": null,
   "metadata": {},
   "outputs": [],
   "source": [
    "''' CREATING THE TRAINING SET '''\n",
    "train_set = GraphDataset(videos_folder=TRAINING_GRAPH_FOLDER, videoparams_folder=VIDEO_PARAMS_FOLDER, frames_per_videoclip=FRAMES_PER_VIDEOCLIP)\n",
    "print(f\"Number of clips: {len(train_set)}\")\n",
    "torch.save(train_set, TRAINING_PICKLE.format(FRAMES_PER_VIDEOCLIP))\n",
    "\n",
    "train_dataloader = DataLoader(train_set, batch_size=BATCH_SIZE, shuffle=True)\n"
   ]
  },
  {
   "cell_type": "code",
   "execution_count": 5,
   "metadata": {},
   "outputs": [
    {
     "name": "stdout",
     "output_type": "stream",
     "text": [
      "Number of clips: 2266\n"
     ]
    }
   ],
   "source": [
    "''' LOADING THE TRAINING SET '''\n",
    "train_set = torch.load(TRAINING_PICKLE.format(FRAMES_PER_VIDEOCLIP))\n",
    "print(f\"Number of clips: {len(train_set)}\")"
   ]
  },
  {
   "cell_type": "code",
   "execution_count": 6,
   "metadata": {},
   "outputs": [],
   "source": [
    "def collate_fn_multi(batch):\n",
    "    seq_features_and_adjs = [[(features.to(DEVICE), adj.to(DEVICE)) for features, adj in item[0]] for item in batch]\n",
    "    label = [item[1].to(DEVICE) for item in batch]\n",
    "    #seq_features_and_adjs = [item[0] for item in batch]\n",
    "    #label = [item[1] for item in batch]\n",
    "    return [seq_features_and_adjs, label]\n",
    "\n",
    "\n",
    "train_dataloader = DataLoader(train_set, batch_size=BATCH_SIZE, shuffle=True)#, collate_fn=collate_fn) #TODO fix batching problem\n",
    "# this collate function works but the problem is when I need to encode one frame at a time (How to do that?)"
   ]
  },
  {
   "cell_type": "code",
   "execution_count": 14,
   "metadata": {},
   "outputs": [
    {
     "name": "stdout",
     "output_type": "stream",
     "text": [
      "ShanghaiTech_testing.pickle\n",
      "Avenue_testing.pickle\n",
      "Number of clips: 93, with 32 normal videos     and 61 real anomalies\n"
     ]
    }
   ],
   "source": [
    "''' CREATING THE TEST SET '''\n",
    "test_set = GraphDataset(videos_folder=TESTING_GRAPH_FOLDER, labels_folder=LABELS_FOLDER, frames_per_videoclip=FRAMES_PER_VIDEOCLIP)\n",
    "print(f\"Number of clips: {len(test_set)}, with {len([l for _, l in test_set if l.item()==0.])} normal videos \\\n",
    "    and {len([l for _, l in test_set if l.item()==1.])} real anomalies\")"
   ]
  },
  {
   "attachments": {},
   "cell_type": "markdown",
   "metadata": {},
   "source": [
    "# TRAINING"
   ]
  },
  {
   "cell_type": "code",
   "execution_count": 7,
   "metadata": {},
   "outputs": [
    {
     "name": "stdout",
     "output_type": "stream",
     "text": [
      "starting training\n",
      "epoch=0 -> epoch_loss=1582.3150621503592 - epoch_accuracy=0.5436893105506897\n",
      "epoch=1 -> epoch_loss=795.7918380536139 - epoch_accuracy=0.8367166519165039\n",
      "epoch=2 -> epoch_loss=213.12092794012278 - epoch_accuracy=0.9788172841072083\n",
      "epoch=3 -> epoch_loss=84.09872660035035 - epoch_accuracy=0.9911738634109497\n",
      "epoch=4 -> epoch_loss=111.25215840779128 - epoch_accuracy=0.9898499846458435\n",
      "epoch=5 -> epoch_loss=145.0363716068632 - epoch_accuracy=0.9876434206962585\n",
      "epoch=6 -> epoch_loss=143.45212253203044 - epoch_accuracy=0.9889673590660095\n",
      "epoch=7 -> epoch_loss=178.45576883811577 - epoch_accuracy=0.9876434206962585\n",
      "epoch=8 -> epoch_loss=171.81810905839026 - epoch_accuracy=0.9885260462760925\n",
      "epoch=9 -> epoch_loss=153.975213728066 - epoch_accuracy=0.9902912378311157\n"
     ]
    }
   ],
   "source": [
    "epochs = 10\n",
    "model = MyNet(\n",
    "    features_size=NUM_NODE_FEATURES,\n",
    "    embedding_size=8, #TODO decide a value for embedding vector (MUST BE EVEN and dividible by nhead) a low number is probably enough since most of the features are one-hot encoded ones\n",
    "    max_length=FRAMES_PER_VIDEOCLIP + 1 #TODO because of the starting token\n",
    ").to(DEVICE)\n",
    "\n",
    "criterion = nn.BCELoss()\n",
    "lr = 1e-4\n",
    "optimizer = torch.optim.Adam(\n",
    "    (p for p in model.parameters() if p.requires_grad), lr=lr\n",
    ")\n",
    "model.train()\n",
    "\n",
    "print(\"starting training\")\n",
    "epoch_to_loss_acc = dict()\n",
    "for epoch in range(epochs):\n",
    "    epoch_loss = 0\n",
    "    epoch_correct = 0\n",
    "    epoch_count = 0\n",
    "    for batch in iter(train_dataloader):\n",
    "        # to device\n",
    "        seq_features_and_adjs, label = batch #len(seq) = FRAMES_PER_VIDEOCLIP + 1 (if no batches)\n",
    "        seq_features_and_adjs = [(features.to(DEVICE), adj.to(DEVICE)) for features, adj in seq_features_and_adjs]\n",
    "        label = label.to(DEVICE)\n",
    "\n",
    "        prediction = model.forward(seq_features_and_adjs)\n",
    "\n",
    "        # loss and step\n",
    "        label = label.unsqueeze(1) # or prediction = prediction.squeeze(1)\n",
    "        loss = criterion(prediction, label)\n",
    "        label = label.squeeze(1) #TODO find a way to avoid squeeze/unsqueeze\n",
    "        loss.backward()\n",
    "        torch.nn.utils.clip_grad_norm_(model.parameters(), 0.5)\n",
    "        optimizer.step()\n",
    "\n",
    "        # accuracy and loss computation\n",
    "        prediction = torch.round(prediction) #0 or 1 \n",
    "        correct = (prediction == label).sum()\n",
    "\n",
    "        epoch_correct += correct\n",
    "        epoch_count += label.size(0)\n",
    "        epoch_loss += loss.item()\n",
    "\n",
    "    epoch_accuracy = (epoch_correct / epoch_count).item()\n",
    "    print(f\"{epoch=} -> {epoch_loss=} - {epoch_accuracy=}\")\n",
    "    epoch_to_loss_acc[epoch] = [epoch_loss, epoch_accuracy]"
   ]
  },
  {
   "cell_type": "code",
   "execution_count": 8,
   "metadata": {},
   "outputs": [
    {
     "data": {
      "text/html": [
       "<div>\n",
       "<style scoped>\n",
       "    .dataframe tbody tr th:only-of-type {\n",
       "        vertical-align: middle;\n",
       "    }\n",
       "\n",
       "    .dataframe tbody tr th {\n",
       "        vertical-align: top;\n",
       "    }\n",
       "\n",
       "    .dataframe thead th {\n",
       "        text-align: right;\n",
       "    }\n",
       "</style>\n",
       "<table border=\"1\" class=\"dataframe\">\n",
       "  <thead>\n",
       "    <tr style=\"text-align: right;\">\n",
       "      <th></th>\n",
       "      <th>Epoch</th>\n",
       "      <th>Loss</th>\n",
       "      <th>Accuracy</th>\n",
       "    </tr>\n",
       "  </thead>\n",
       "  <tbody>\n",
       "    <tr>\n",
       "      <th>0</th>\n",
       "      <td>0</td>\n",
       "      <td>1582.315062</td>\n",
       "      <td>0.543689</td>\n",
       "    </tr>\n",
       "    <tr>\n",
       "      <th>1</th>\n",
       "      <td>1</td>\n",
       "      <td>795.791838</td>\n",
       "      <td>0.836717</td>\n",
       "    </tr>\n",
       "    <tr>\n",
       "      <th>2</th>\n",
       "      <td>2</td>\n",
       "      <td>213.120928</td>\n",
       "      <td>0.978817</td>\n",
       "    </tr>\n",
       "    <tr>\n",
       "      <th>3</th>\n",
       "      <td>3</td>\n",
       "      <td>84.098727</td>\n",
       "      <td>0.991174</td>\n",
       "    </tr>\n",
       "    <tr>\n",
       "      <th>4</th>\n",
       "      <td>4</td>\n",
       "      <td>111.252158</td>\n",
       "      <td>0.989850</td>\n",
       "    </tr>\n",
       "    <tr>\n",
       "      <th>5</th>\n",
       "      <td>5</td>\n",
       "      <td>145.036372</td>\n",
       "      <td>0.987643</td>\n",
       "    </tr>\n",
       "    <tr>\n",
       "      <th>6</th>\n",
       "      <td>6</td>\n",
       "      <td>143.452123</td>\n",
       "      <td>0.988967</td>\n",
       "    </tr>\n",
       "    <tr>\n",
       "      <th>7</th>\n",
       "      <td>7</td>\n",
       "      <td>178.455769</td>\n",
       "      <td>0.987643</td>\n",
       "    </tr>\n",
       "    <tr>\n",
       "      <th>8</th>\n",
       "      <td>8</td>\n",
       "      <td>171.818109</td>\n",
       "      <td>0.988526</td>\n",
       "    </tr>\n",
       "    <tr>\n",
       "      <th>9</th>\n",
       "      <td>9</td>\n",
       "      <td>153.975214</td>\n",
       "      <td>0.990291</td>\n",
       "    </tr>\n",
       "  </tbody>\n",
       "</table>\n",
       "</div>"
      ],
      "text/plain": [
       "   Epoch         Loss  Accuracy\n",
       "0      0  1582.315062  0.543689\n",
       "1      1   795.791838  0.836717\n",
       "2      2   213.120928  0.978817\n",
       "3      3    84.098727  0.991174\n",
       "4      4   111.252158  0.989850\n",
       "5      5   145.036372  0.987643\n",
       "6      6   143.452123  0.988967\n",
       "7      7   178.455769  0.987643\n",
       "8      8   171.818109  0.988526\n",
       "9      9   153.975214  0.990291"
      ]
     },
     "execution_count": 8,
     "metadata": {},
     "output_type": "execute_result"
    }
   ],
   "source": [
    "metrics_df = pd.DataFrame(epoch_to_loss_acc).transpose().reset_index().rename(columns={\"index\": \"Epoch\", 0: \"Loss\", 1: \"Accuracy\"})\n",
    "metrics_df"
   ]
  },
  {
   "cell_type": "code",
   "execution_count": 9,
   "metadata": {},
   "outputs": [
    {
     "data": {
      "text/plain": [
       "<AxesSubplot: xlabel='Epoch'>"
      ]
     },
     "execution_count": 9,
     "metadata": {},
     "output_type": "execute_result"
    },
    {
     "data": {
      "image/png": "[encoded data removed]",
      "text/plain": [
       "<Figure size 640x480 with 1 Axes>"
      ]
     },
     "metadata": {},
     "output_type": "display_data"
    }
   ],
   "source": [
    "metrics_df.plot(x=\"Epoch\", y=\"Loss\")"
   ]
  },
  {
   "cell_type": "code",
   "execution_count": 10,
   "metadata": {},
   "outputs": [
    {
     "data": {
      "text/plain": [
       "<AxesSubplot: xlabel='Epoch'>"
      ]
     },
     "execution_count": 10,
     "metadata": {},
     "output_type": "execute_result"
    },
    {
     "data": {
      "image/png": "[encoded data removed]",
      "text/plain": [
       "<Figure size 640x480 with 1 Axes>"
      ]
     },
     "metadata": {},
     "output_type": "display_data"
    }
   ],
   "source": [
    "metrics_df.plot(x=\"Epoch\", y=\"Accuracy\")"
   ]
  },
  {
   "attachments": {},
   "cell_type": "markdown",
   "metadata": {},
   "source": [
    "# TESTING"
   ]
  },
  {
   "cell_type": "code",
   "execution_count": 15,
   "metadata": {},
   "outputs": [
    {
     "name": "stdout",
     "output_type": "stream",
     "text": [
      "Testing results: accuracy=0.34408602118492126\n"
     ]
    }
   ],
   "source": [
    "test_dataloader = DataLoader(test_set, batch_size=BATCH_SIZE, shuffle=True)#, collate_fn=collate_fn) #TODO fix batching problem\n",
    "\n",
    "model.eval()\n",
    "\n",
    "correct_preds = 0\n",
    "total_preds = 0\n",
    "\n",
    "with torch.no_grad():\n",
    "    for batch in iter(test_dataloader):\n",
    "        # to device\n",
    "        seq_features_and_adjs, label = batch\n",
    "        seq_features_and_adjs = [(features.to(DEVICE), adj.to(DEVICE)) for features, adj in seq_features_and_adjs]\n",
    "        label = label.to(DEVICE)\n",
    "\n",
    "        prediction = model.forward(seq_features_and_adjs)\n",
    "\n",
    "        # accuracy computation\n",
    "        prediction = torch.round(prediction) #0 or 1 \n",
    "        correct = (prediction == label).sum()\n",
    "\n",
    "        correct_preds += correct\n",
    "        total_preds += label.size(0)\n",
    "\n",
    "\n",
    "print(f\"Testing results: accuracy={correct_preds / total_preds}\")"
   ]
  }
 ],
 "metadata": {
  "kernelspec": {
   "display_name": "Python 3",
   "language": "python",
   "name": "python3"
  },
  "language_info": {
   "codemirror_mode": {
    "name": "ipython",
    "version": 3
   },
   "file_extension": ".py",
   "mimetype": "text/x-python",
   "name": "python",
   "nbconvert_exporter": "python",
   "pygments_lexer": "ipython3",
   "version": "3.10.9"
  },
  "orig_nbformat": 4,
  "vscode": {
   "interpreter": {
    "hash": "b0fa6594d8f4cbf19f97940f81e996739fb7646882a419484c72d19e05852a7e"
   }
  }
 },
 "nbformat": 4,
 "nbformat_minor": 2
}
