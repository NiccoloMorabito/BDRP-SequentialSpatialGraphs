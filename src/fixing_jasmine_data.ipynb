{
 "cells": [
  {
   "cell_type": "code",
   "execution_count": 1,
   "metadata": {},
   "outputs": [],
   "source": [
    "import pickle\n",
    "import os\n",
    "from common_utils.stg_utils import Node, Edge\n",
    "\n",
    "TRAINING_GRAPH_FOLDER = \"../data/training_graphs/\"\n",
    "VIDEO_PARAMS_FOLDER = \"../data/video_parameters/\""
   ]
  },
  {
   "attachments": {},
   "cell_type": "markdown",
   "metadata": {},
   "source": [
    "## code to fix the keys in the pickle files (TODO you can delete as soon as the new process for generating data is consistent)"
   ]
  },
  {
   "cell_type": "code",
   "execution_count": 4,
   "metadata": {},
   "outputs": [
    {
     "name": "stdout",
     "output_type": "stream",
     "text": [
      "Avenue\n",
      "/Users/xiaokeai/Downloads/yolov7-main/datasets/Avenue Dataset/training_videos/01.avi -> /Users/xiaokeai/Downloads/yolov7-main/datasets/AvenueDataset/training_videos/01.avi\n",
      "/Users/xiaokeai/Downloads/yolov7-main/datasets/Avenue Dataset/training_videos/02.avi -> /Users/xiaokeai/Downloads/yolov7-main/datasets/AvenueDataset/training_videos/02.avi\n",
      "/Users/xiaokeai/Downloads/yolov7-main/datasets/Avenue Dataset/training_videos/03.avi -> /Users/xiaokeai/Downloads/yolov7-main/datasets/AvenueDataset/training_videos/03.avi\n",
      "/Users/xiaokeai/Downloads/yolov7-main/datasets/Avenue Dataset/training_videos/04.avi -> /Users/xiaokeai/Downloads/yolov7-main/datasets/AvenueDataset/training_videos/04.avi\n",
      "/Users/xiaokeai/Downloads/yolov7-main/datasets/Avenue Dataset/training_videos/05.avi -> /Users/xiaokeai/Downloads/yolov7-main/datasets/AvenueDataset/training_videos/05.avi\n",
      "/Users/xiaokeai/Downloads/yolov7-main/datasets/Avenue Dataset/training_videos/06.avi -> /Users/xiaokeai/Downloads/yolov7-main/datasets/AvenueDataset/training_videos/06.avi\n",
      "/Users/xiaokeai/Downloads/yolov7-main/datasets/Avenue Dataset/training_videos/07.avi -> /Users/xiaokeai/Downloads/yolov7-main/datasets/AvenueDataset/training_videos/07.avi\n",
      "/Users/xiaokeai/Downloads/yolov7-main/datasets/Avenue Dataset/training_videos/08.avi -> /Users/xiaokeai/Downloads/yolov7-main/datasets/AvenueDataset/training_videos/08.avi\n",
      "/Users/xiaokeai/Downloads/yolov7-main/datasets/Avenue Dataset/training_videos/09.avi -> /Users/xiaokeai/Downloads/yolov7-main/datasets/AvenueDataset/training_videos/09.avi\n",
      "/Users/xiaokeai/Downloads/yolov7-main/datasets/Avenue Dataset/training_videos/10.avi -> /Users/xiaokeai/Downloads/yolov7-main/datasets/AvenueDataset/training_videos/10.avi\n",
      "/Users/xiaokeai/Downloads/yolov7-main/datasets/Avenue Dataset/training_videos/11.avi -> /Users/xiaokeai/Downloads/yolov7-main/datasets/AvenueDataset/training_videos/11.avi\n",
      "/Users/xiaokeai/Downloads/yolov7-main/datasets/Avenue Dataset/training_videos/12.avi -> /Users/xiaokeai/Downloads/yolov7-main/datasets/AvenueDataset/training_videos/12.avi\n",
      "/Users/xiaokeai/Downloads/yolov7-main/datasets/Avenue Dataset/training_videos/13.avi -> /Users/xiaokeai/Downloads/yolov7-main/datasets/AvenueDataset/training_videos/13.avi\n",
      "/Users/xiaokeai/Downloads/yolov7-main/datasets/Avenue Dataset/training_videos/14.avi -> /Users/xiaokeai/Downloads/yolov7-main/datasets/AvenueDataset/training_videos/14.avi\n",
      "/Users/xiaokeai/Downloads/yolov7-main/datasets/Avenue Dataset/training_videos/15.avi -> /Users/xiaokeai/Downloads/yolov7-main/datasets/AvenueDataset/training_videos/15.avi\n",
      "/Users/xiaokeai/Downloads/yolov7-main/datasets/Avenue Dataset/training_videos/16.avi -> /Users/xiaokeai/Downloads/yolov7-main/datasets/AvenueDataset/training_videos/16.avi\n",
      ".DS\n",
      "ShanghaiTech\n",
      "Adoc\n",
      "ShanghaiTechDatasetResults\n"
     ]
    }
   ],
   "source": [
    "'''FOR AVENUE'''\n",
    "for dataset_path in [file for file in os.listdir(TRAINING_GRAPH_FOLDER)]:\n",
    "    dataset_name = dataset_path.split(\"_\")[0]\n",
    "    print(dataset_name)\n",
    "    if dataset_name!=\"Avenue\":\n",
    "        continue\n",
    "    with open(os.path.join(TRAINING_GRAPH_FOLDER, dataset_path), 'rb') as f:\n",
    "        dataset = pickle.load(f)\n",
    "\n",
    "    new_dataset = dict()\n",
    "    for key in dataset.keys():\n",
    "        new_key = \"\".join(key.split(\" \"))\n",
    "        print(f\"{key} -> {new_key}\")\n",
    "        new_dataset[new_key] = dataset[key]\n",
    "    \n",
    "    with open(\"avenue_modified_MOVE.pickle\", \"wb\") as f:\n",
    "        pickle.dump(new_dataset, f, protocol=pickle.HIGHEST_PROTOCOL)"
   ]
  },
  {
   "cell_type": "code",
   "execution_count": 14,
   "metadata": {},
   "outputs": [
    {
     "name": "stdout",
     "output_type": "stream",
     "text": [
      "dictAdoc.pickle\n",
      "video_0 -> /Users/xiaokeai/Downloads/yolov7-main/datasets/adoc_v.1.1/videos/Day1/part1.avi\n",
      "video_1 -> /Users/xiaokeai/Downloads/yolov7-main/datasets/adoc_v.1.1/videos/Day1/part2.avi\n",
      "video_2 -> /Users/xiaokeai/Downloads/yolov7-main/datasets/adoc_v.1.1/videos/Day1/part3.avi\n",
      "video_3 -> /Users/xiaokeai/Downloads/yolov7-main/datasets/adoc_v.1.1/videos/Day1/part4.avi\n"
     ]
    }
   ],
   "source": [
    "'''FOR ADOC'''\n",
    "for dataset_path in [file for file in os.listdir(TRAINING_GRAPH_FOLDER)]:\n",
    "    dataset_name = dataset_path.split(\"_\")[0]\n",
    "    if dataset_name!=\"dictAdoc.pickle\":\n",
    "        continue\n",
    "    print(dataset_name)\n",
    "    with open(os.path.join(TRAINING_GRAPH_FOLDER, dataset_path), 'rb') as f:\n",
    "        dataset = pickle.load(f)\n",
    "    \n",
    "    with open(os.path.join(VIDEO_PARAMS_FOLDER, \"Adoc_video_params.pickle\"), 'rb') as f:\n",
    "        params = pickle.load(f)\n",
    "    keys = sorted(params.keys())\n",
    "    \n",
    "    new_dataset = dict()\n",
    "    for key, value in dataset.items():\n",
    "        idx = int(key.split(\"_\")[1])\n",
    "        new_key = keys[idx]\n",
    "        print(f\"{key} -> {new_key}\")\n",
    "        new_dataset[new_key] = value\n",
    "\n",
    "    with open(\"adoc_modified_MOVE.pickle\", \"wb\") as f:\n",
    "        pickle.dump(new_dataset, f, protocol=pickle.HIGHEST_PROTOCOL)\n"
   ]
  },
  {
   "cell_type": "code",
   "execution_count": 4,
   "metadata": {},
   "outputs": [],
   "source": [
    "with open(os.path.join(TRAINING_GRAPH_FOLDER, \"StreetSceneDataset_training.pickle\"), 'rb') as f:\n",
    "    d = pickle.load(f)\n",
    "\n",
    "videoname_to_params = dict()\n",
    "for k in d.keys():\n",
    "    # https://www.merl.com/demos/video-anomaly-detection\n",
    "    params = dict({\n",
    "        \"width\": 1280,\n",
    "        \"height\": 720,\n",
    "    })\n",
    "    videoname_to_params[k] = params\n",
    "\n",
    "with open(os.path.join(VIDEO_PARAMS_FOLDER, \"StreetSceneDataset_video_params.pickle\"), 'wb') as handle:\n",
    "        pickle.dump(videoname_to_params, handle, protocol=pickle.HIGHEST_PROTOCOL)"
   ]
  }
 ],
 "metadata": {
  "kernelspec": {
   "display_name": "Python 3",
   "language": "python",
   "name": "python3"
  },
  "language_info": {
   "codemirror_mode": {
    "name": "ipython",
    "version": 3
   },
   "file_extension": ".py",
   "mimetype": "text/x-python",
   "name": "python",
   "nbconvert_exporter": "python",
   "pygments_lexer": "ipython3",
   "version": "3.9.6"
  },
  "orig_nbformat": 4,
  "vscode": {
   "interpreter": {
    "hash": "31f2aee4e71d21fbe5cf8b01ff0e069b9275f58929596ceb00d14d90e3e16cd6"
   }
  }
 },
 "nbformat": 4,
 "nbformat_minor": 2
}
