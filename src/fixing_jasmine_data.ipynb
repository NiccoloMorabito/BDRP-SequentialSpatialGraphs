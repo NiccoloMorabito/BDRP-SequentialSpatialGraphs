{
 "cells": [
  {
   "cell_type": "code",
   "execution_count": 2,
   "metadata": {},
   "outputs": [],
   "source": [
    "import pickle\n",
    "import os\n",
    "from common_utils.stg_utils import Node, Edge\n",
    "\n",
    "TRAINING_GRAPH_FOLDER = \"../data/training_graphs/\"\n",
    "VIDEO_PARAMS_FOLDER = \"../data/video_parameters/\""
   ]
  },
  {
   "attachments": {},
   "cell_type": "markdown",
   "metadata": {},
   "source": [
    "## code to fix the keys in the pickle files (TODO you can delete as soon as the new process for generating data is consistent)"
   ]
  },
  {
   "cell_type": "code",
   "execution_count": null,
   "metadata": {},
   "outputs": [],
   "source": [
    "'''FOR AVENUE'''\n",
    "for dataset_path in [file for file in os.listdir(TRAINING_GRAPH_FOLDER)]:\n",
    "    dataset_name = dataset_path.split(\"_\")[0]\n",
    "    print(dataset_name)\n",
    "    if dataset_name!=\"Avenue\":\n",
    "        continue\n",
    "    with open(os.path.join(TRAINING_GRAPH_FOLDER, dataset_path), 'rb') as f:\n",
    "        dataset = pickle.load(f)\n",
    "\n",
    "    new_dataset = dict()\n",
    "    for key in dataset.keys():\n",
    "        new_key = \"\".join(key.split(\" \"))\n",
    "        print(f\"{key} -> {new_key}\")\n",
    "        new_dataset[new_key] = dataset[key]\n",
    "    \n",
    "    with open(\"avenue_modified_MOVE.pickle\", \"wb\") as f:\n",
    "        pickle.dump(new_dataset, f, protocol=pickle.HIGHEST_PROTOCOL)"
   ]
  },
  {
   "cell_type": "code",
   "execution_count": null,
   "metadata": {},
   "outputs": [],
   "source": [
    "'''FOR ADOC'''\n",
    "for dataset_path in [file for file in os.listdir(TRAINING_GRAPH_FOLDER)]:\n",
    "    dataset_name = dataset_path.split(\"_\")[0]\n",
    "    print(dataset_name)\n",
    "    if dataset_name!=\"Adoc\":\n",
    "        continue\n",
    "    with open(os.path.join(TRAINING_GRAPH_FOLDER, dataset_path), 'rb') as f:\n",
    "        dataset = pickle.load(f)\n",
    "    \n",
    "    #TODO"
   ]
  }
 ],
 "metadata": {
  "kernelspec": {
   "display_name": "Python 3",
   "language": "python",
   "name": "python3"
  },
  "language_info": {
   "codemirror_mode": {
    "name": "ipython",
    "version": 3
   },
   "file_extension": ".py",
   "mimetype": "text/x-python",
   "name": "python",
   "nbconvert_exporter": "python",
   "pygments_lexer": "ipython3",
   "version": "3.9.6"
  },
  "orig_nbformat": 4,
  "vscode": {
   "interpreter": {
    "hash": "31f2aee4e71d21fbe5cf8b01ff0e069b9275f58929596ceb00d14d90e3e16cd6"
   }
  }
 },
 "nbformat": 4,
 "nbformat_minor": 2
}
